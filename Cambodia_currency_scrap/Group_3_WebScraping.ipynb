{
  "cells": [
    {
      "cell_type": "markdown",
      "source": [
        "# <font color = blue> Group3</font>  \n",
        "#### Oun Vikreth, &ensp; Mao Kimlang, &ensp; Pean Chhinger \n",
        "#### Ngim Panha, &ensp; Pheng Sothea, &ensp; Nang Sreynich "
      ],
      "metadata": {}
    },
    {
      "cell_type": "markdown",
      "source": [
        "<center> <h1> Cambodia's Currency (Riel) Prediction"
      ],
      "metadata": {
        "nteract": {
          "transient": {
            "deleting": false
          }
        }
      }
    },
    {
      "cell_type": "markdown",
      "source": [
        "## <font color = red> Introduction</font>  \n",
        "An exchange rate is a rate at which one currency will be exchanged for another currency. While most exchange rates are floating and will rise or fall based on the supply and demand in the market, some exchange rates are pegged or fixed to the value of a specific country's currency.  \n",
        "\n",
        "In this project, we will build on the prediction of Khmer(riel) with Dollar(usd)  exchange rate which telling the user of increasing or descreasing Khmer(riel) exchange rate."
      ],
      "metadata": {}
    },
    {
      "cell_type": "markdown",
      "source": [
        "## <font color = red> Web Scraping</font>  "
      ],
      "metadata": {}
    },
    {
      "cell_type": "code",
      "source": [
        "from bs4 import BeautifulSoup\n",
        "from urllib.request import urlopen,Request\n",
        "import pandas as pd\n",
        "import csv"
      ],
      "outputs": [],
      "execution_count": null,
      "metadata": {}
    },
    {
      "cell_type": "code",
      "source": [
        "url='https://finance.yahoo.com/quote/KHR%3DX/history?period1=1070236800&period2=1679961600&interval=1d&filter=history&frequency=1d&includeAdjustedClose=true'\n",
        "headers={'User-Agent':'Mozilla/5.0 (Windows NT 10.0; Win64; x64) AppleWebKit/537.36 (KHTML, like Gecko) Chrome/111.0.0.0 Safari/537.36'}\n",
        "req=Request(url=url,headers=headers)\n",
        "web=urlopen(req).read()\n",
        "soup=BeautifulSoup(web,'lxml')\n",
        "print(soup)"
      ],
      "outputs": [],
      "execution_count": null,
      "metadata": {}
    },
    {
      "cell_type": "code",
      "source": [
        "myTable = soup.find('table', {'class': 'W(100%) M(0)'})\n",
        "myTable"
      ],
      "outputs": [],
      "execution_count": null,
      "metadata": {}
    },
    {
      "cell_type": "code",
      "source": [
        "dat = []\n",
        "for i in myTable.find_all('tr')[1:]:\n",
        "    td_tags = i.find_all('td')\n",
        "    td_vals = [y.text for y in td_tags]\n",
        "    dat.append(td_vals)\n",
        "dat"
      ],
      "outputs": [],
      "execution_count": null,
      "metadata": {}
    },
    {
      "cell_type": "code",
      "source": [
        "df = pd.DataFrame(dat, columns=['Date', 'Open', 'High', 'Low', 'Close', 'Adj Close', 'Volume'])"
      ],
      "outputs": [],
      "execution_count": null,
      "metadata": {}
    },
    {
      "cell_type": "code",
      "source": [
        "df.to_csv('Data.csv')"
      ],
      "outputs": [],
      "execution_count": null,
      "metadata": {}
    },
    {
      "cell_type": "code",
      "source": [
        "df"
      ],
      "outputs": [],
      "execution_count": null,
      "metadata": {}
    },
    {
      "cell_type": "code",
      "source": [],
      "outputs": [],
      "execution_count": null,
      "metadata": {}
    }
  ],
  "metadata": {
    "kernelspec": {
      "name": "python",
      "language": "python",
      "display_name": "Pyolite (preview)"
    },
    "language_info": {
      "codemirror_mode": {
        "name": "python",
        "version": 3
      },
      "file_extension": ".py",
      "mimetype": "text/x-python",
      "name": "python",
      "nbconvert_exporter": "python",
      "pygments_lexer": "ipython3",
      "version": "3.8"
    },
    "varInspector": {
      "cols": {
        "lenName": 16,
        "lenType": 16,
        "lenVar": 40
      },
      "kernels_config": {
        "python": {
          "delete_cmd_postfix": "",
          "delete_cmd_prefix": "del ",
          "library": "var_list.py",
          "varRefreshCmd": "print(var_dic_list())"
        },
        "r": {
          "delete_cmd_postfix": ") ",
          "delete_cmd_prefix": "rm(",
          "library": "var_list.r",
          "varRefreshCmd": "cat(var_dic_list()) "
        }
      },
      "types_to_exclude": [
        "module",
        "function",
        "builtin_function_or_method",
        "instance",
        "_Feature"
      ],
      "window_display": false
    },
    "kernel_info": {
      "name": "python"
    },
    "nteract": {
      "version": "nteract-front-end@1.0.0"
    }
  },
  "nbformat": 4,
  "nbformat_minor": 2
}