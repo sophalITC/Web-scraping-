{
 "cells": [
  {
   "attachments": {},
   "cell_type": "markdown",
   "metadata": {},
   "source": [
    "**<h1 style='text-align:center'>Hotel Recommendation</h1>**\n",
    "**<h5 style='text-align:center'>By Group 4</h5>**\n",
    "\n",
    "> ### **Members**  \n",
    "> #### 1. LIM KIMHOUNG  \n",
    "> #### 2. LUN TOLA\n",
    "> #### 3. LONG CHANLEAP\n",
    "> #### 4. RUN SAVIN\n",
    "> #### 5. LAB THAVARITH"
   ]
  },
  {
   "cell_type": "code",
   "execution_count": 451,
   "metadata": {},
   "outputs": [],
   "source": [
    "#Import the needed library\n",
    "import requests\n",
    "from bs4 import BeautifulSoup as soup\n",
    "import pandas as pd\n"
   ]
  },
  {
   "cell_type": "code",
   "execution_count": 452,
   "metadata": {},
   "outputs": [
    {
     "name": "stdout",
     "output_type": "stream",
     "text": [
      "200\n"
     ]
    }
   ],
   "source": [
    "import requests\n",
    "from bs4 import BeautifulSoup\n",
    "\n",
    "t=50\n",
    "\n",
    "headers={\"User-Agent\":\"Mozilla/5.0 (Windows NT 10.0; Win64; x64) AppleWebKit/537.36 (KHTML, like Gecko) Chrome/107.0.0.0 Safari/537.36\"}\n",
    "\n",
    "target_url = \"https://www.booking.com/hotel/kh/isann-lodge.ms.html?aid=356980&label=gog235jc-1FCAsoeEILaXNhbm4tbG9kZ2VIM1gDaHiIAQGYARu4ARfIAQzYAQHoAQH4AQyIAgGoAgO4Aojt2aIGwAIB0gIkMjlmY2JiZmUtYzJiMS00OWQ1LTkzNDMtYWM2YTM2ZmY2MzMw2AIG4AIB&sid=42cbc141abd816955d8fbe7ce58d0863&checkin_month=5&checkin_monthday=9&checkin_year=2023&checkout_month=5&checkout_monthday=10&checkout_year=2023&dist=0&do_availability_check=1&group_adults=2&group_children=0&hp_avform=1&hp_group_set=0&no_rooms=1&origin=hp&sb_price_type=total&src=hotel&stay_on_hp=1&type=total&#availability_target\"\n",
    "\n",
    "resp = requests.get(target_url, headers=headers)\n",
    "\n",
    "print(resp.status_code)"
   ]
  },
  {
   "cell_type": "code",
   "execution_count": 453,
   "metadata": {},
   "outputs": [],
   "source": [
    "g=list()\n",
    "k={}\n",
    "\n",
    "\n",
    "soup = BeautifulSoup(resp.text, 'html.parser')"
   ]
  },
  {
   "cell_type": "code",
   "execution_count": 454,
   "metadata": {},
   "outputs": [],
   "source": [
    "name=soup.find(\"h2\",{\"class\":\"pp-header__title\"}).text\n",
    "address=soup.find(\"span\",{\"class\":\"hp_address_subtitle\"}).text.strip(\"\\n\")\n",
    "rating=soup.find(\"div\",{\"class\":\"d10a6220b4\"}).text\n"
   ]
  },
  {
   "cell_type": "code",
   "execution_count": 455,
   "metadata": {},
   "outputs": [
    {
     "name": "stdout",
     "output_type": "stream",
     "text": [
      "Isann Lodge \n",
      "Road 60, Slorkram Commune, Siem Reap, Kemboja \n",
      "8.3\n"
     ]
    }
   ],
   "source": [
    "print(f'{name} \\n{address} \\n{rating}')"
   ]
  },
  {
   "cell_type": "code",
   "execution_count": 456,
   "metadata": {},
   "outputs": [],
   "source": [
    "facilities = list()\n",
    "facility = {}\n",
    "find = soup.find_all('div', {'class':'a815ec762e ab06168e66'})\n",
    "for i in find:\n",
    "    facility[\"Name\"] = name\n",
    "    facility[\"Facilities\"] = i.text.strip('\\n')\n",
    "    facilities.append(facility)\n",
    "    facility={}"
   ]
  },
  {
   "cell_type": "code",
   "execution_count": 457,
   "metadata": {},
   "outputs": [
    {
     "name": "stdout",
     "output_type": "stream",
     "text": [
      "['', '142063103_169919746_0_1_0', '142063109_169919746_2_1_0', '142063105_169919746_0_1_0', '142063107_169919746_8_1_0']\n",
      "ids are  5\n"
     ]
    }
   ],
   "source": [
    "ids= []\n",
    "\n",
    "targetId= []\n",
    "try:\n",
    "    tr = soup.find_all(\"tr\")\n",
    "except:\n",
    "    tr = None\n",
    "\n",
    "for y in range(0,len(tr)):\n",
    "    try:\n",
    "        id = tr[y].get('data-block-id')\n",
    "\n",
    "    except:\n",
    "        id = None\n",
    "\n",
    "    if( id is not None):\n",
    "        ids.append(id)\n",
    "print(ids)\n",
    "print(\"ids are \",len(ids))"
   ]
  },
  {
   "cell_type": "code",
   "execution_count": 458,
   "metadata": {},
   "outputs": [
    {
     "name": "stdout",
     "output_type": "stream",
     "text": [
      "Bilik Superior Triple\n",
      "45 m²\n",
      "Suite Garden\n",
      "38 m²\n",
      "KHR 185,638\n",
      "Banglo\n",
      "40 m²\n",
      "KHR 241,330\n",
      "Vila Dua Bilik Tidur\n",
      "120 m²\n",
      "KHR 371,276\n",
      "Vila Empat Bilik Tidur\n",
      "260 m²\n",
      "KHR 742,552\n"
     ]
    },
    {
     "data": {
      "text/plain": [
       "[{'Name': 'Isann Lodge',\n",
       "  'Adress': 'Road 60, Slorkram Commune, Siem Reap, Kemboja',\n",
       "  'Rating': '8.3',\n",
       "  'RoomType': 'Suite Garden',\n",
       "  'RoomSize': '38 m²',\n",
       "  'Price': 'KHR\\xa0185,638'},\n",
       " {'Name': 'Isann Lodge',\n",
       "  'Adress': 'Road 60, Slorkram Commune, Siem Reap, Kemboja',\n",
       "  'Rating': '8.3',\n",
       "  'RoomType': 'Banglo',\n",
       "  'RoomSize': '40 m²',\n",
       "  'Price': 'KHR\\xa0241,330'},\n",
       " {'Name': 'Isann Lodge',\n",
       "  'Adress': 'Road 60, Slorkram Commune, Siem Reap, Kemboja',\n",
       "  'Rating': '8.3',\n",
       "  'RoomType': 'Vila Dua Bilik Tidur',\n",
       "  'RoomSize': '120 m²',\n",
       "  'Price': 'KHR\\xa0371,276'},\n",
       " {'Name': 'Isann Lodge',\n",
       "  'Adress': 'Road 60, Slorkram Commune, Siem Reap, Kemboja',\n",
       "  'Rating': '8.3',\n",
       "  'RoomType': 'Vila Empat Bilik Tidur',\n",
       "  'RoomSize': '260 m²',\n",
       "  'Price': 'KHR\\xa0742,552'}]"
      ]
     },
     "execution_count": 458,
     "metadata": {},
     "output_type": "execute_result"
    }
   ],
   "source": [
    "for i in range(0,len(ids)):\n",
    "    try:\n",
    "        k['Name'] = name\n",
    "        k['Adress'] = address\n",
    "        k['Rating'] = rating\n",
    "        allData = soup.find(\"tr\",{\"data-block-id\":ids[i]})\n",
    "        try:\n",
    "            rooms = allData.find(\"span\",{\"class\":\"hprt-roomtype-icon-link\"})\n",
    "        except:\n",
    "            rooms=None\n",
    "        if(rooms is not None):\n",
    "            last_room = rooms.text.replace(\"\\n\",\"\")\n",
    "        try:\n",
    "            k[\"RoomType\"]=rooms.text.replace(\"\\n\",\"\")\n",
    "        except:\n",
    "            k[\"RoomType\"]=last_room\n",
    "        print(k[\"RoomType\"])\n",
    "        \n",
    "        try:\n",
    "            roomSize = allData.find(\"div\", {\"data-name-en\":\"room size\"})\n",
    "        except:\n",
    "            roomSize=None\n",
    "        if(rooms is not None):\n",
    "            last_roomSize = roomSize.text.replace(\"\\n\",\"\")\n",
    "        try:\n",
    "            k[\"RoomSize\"]=roomSize.text.replace(\"\\n\",\"\")\n",
    "        except:\n",
    "            k[\"RoomSize\"]=last_roomSize\n",
    "        print(k[\"RoomSize\"])\n",
    "        \n",
    "        price = allData.find(\"div\",{\"class\":\"bui-price-display__value prco-text-nowrap-helper prco-inline-block-maker-helper prco-f-font-heading\"})\n",
    "        k[\"Price\"]=price.text.replace(\"\\n\",\"\")\n",
    "        print(k[\"Price\"])\n",
    "        \n",
    "        \n",
    "        \n",
    "        g.append(k)\n",
    "        k={}\n",
    "    except:\n",
    "        k['Name'] = None\n",
    "        k['Adress'] = None\n",
    "        k['Rating'] = None\n",
    "        k[\"RoomType\"]=None\n",
    "        k[\"Price\"]=None\n",
    "        k[\"RoomSize\"] = None\n",
    "        \n",
    "    \n",
    "g\n",
    "\n"
   ]
  },
  {
   "cell_type": "code",
   "execution_count": 459,
   "metadata": {},
   "outputs": [],
   "source": [
    "# Add to dataframe\n",
    "df = pd.DataFrame(g)\n",
    "df1 = pd.DataFrame(facilities)\n",
    "\n",
    "# Make csv file\n",
    "fileName = df.to_csv(f'hotel{t}_07_05.csv')\n",
    "fileName1 = df1.to_csv(f'hotel{t}_Facilities.csv')"
   ]
  },
  {
   "cell_type": "code",
   "execution_count": null,
   "metadata": {},
   "outputs": [],
   "source": []
  }
 ],
 "metadata": {
  "kernelspec": {
   "display_name": "Python 3",
   "language": "python",
   "name": "python3"
  },
  "language_info": {
   "codemirror_mode": {
    "name": "ipython",
    "version": 3
   },
   "file_extension": ".py",
   "mimetype": "text/x-python",
   "name": "python",
   "nbconvert_exporter": "python",
   "pygments_lexer": "ipython3",
   "version": "3.11.2"
  },
  "orig_nbformat": 4
 },
 "nbformat": 4,
 "nbformat_minor": 2
}
