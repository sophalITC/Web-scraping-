{
  "cells": [
    {
      "cell_type": "markdown",
      "source": [
        "# Group 3\n",
        "Member:\n",
        "1. KOH TITO       &emsp; &emsp; &emsp; &emsp;e20200353\n",
        "2. CHEA MAKARA    &emsp; &emsp;e20201131\n",
        "3. AOV KEATMENG   &nbsp;&nbsp;&emsp;e20201812\n",
        "4. BUT CHEABLENG  &emsp;e20200861\n",
        "5. HOK KIMLEANG   &nbsp;&nbsp;&nbsp;&emsp;e20200637"
      ],
      "metadata": {},
      "id": "6caebd74"
    },
    {
      "cell_type": "markdown",
      "source": [
        "<h2 style='text-align:center;'> Land price Analysis </h2>\n",
        "\n",
        "We are now scraping data from https://www.realestate.com.kh/\n",
        "\n",
        "There are 9 columns and total of 667 rows.\n",
        "\n",
        "The attributes:\n",
        "\n",
        "* Price: (important)\n",
        "* Price per square meters\n",
        "* Location: To know where the land is located\n",
        "* Type: To know if it is a land for develop or not\n",
        "* Property ID: To identify the land and note down in the system\n",
        "* Original ID: an identification number that is used to identify a particular plot of land\n",
        "* Listed: Date of putting on sale\n",
        "* Updated: Date of updating the land's information "
      ],
      "metadata": {},
      "id": "bfb23be4"
    },
    {
      "cell_type": "code",
      "source": [
        "from bs4 import BeautifulSoup\n",
        "from urllib import request\n",
        "from urllib.request import Request, urlopen\n",
        "from csv import writer"
      ],
      "outputs": [],
      "execution_count": 31,
      "metadata": {},
      "id": "ee76c625"
    },
    {
      "cell_type": "code",
      "source": [
        "#1st page\n",
        "url = \"https://www.realestate.com.kh/buy/?active_tab=Recent&order_by=relevance&property_type=residential&search_type=sale&categories=Land%2FDevelopment\"\n",
        "request_site = Request(url, headers ={'User-Agent': 'Mozilla/5.0'} )\n",
        "webpage = urlopen(request_site).read()\n",
        "soup = BeautifulSoup(webpage, 'html.parser')\n",
        "per_link = [i['href'] for i in soup.find_all('div',class_=\"info listing\", href=True)]\n",
        "list_link = []\n",
        "for i in per_link:\n",
        "    list_link.append(\"https://www.realestate.com.kh\"+i)\n",
        "list_link"
      ],
      "outputs": [
        {
          "output_type": "execute_result",
          "execution_count": 24,
          "data": {
            "text/plain": "['https://www.realestate.com.kh/buy/svay-dankum/land-229211/',\n 'https://www.realestate.com.kh/buy/sala-kamraeuk/land-228618/',\n 'https://www.realestate.com.kh/buy/svay-dankum/land-228610/',\n 'https://www.realestate.com.kh/buy/boeung-kak-2/land-227762/',\n 'https://www.realestate.com.kh/buy/preaek-ta-sek/land-226844/',\n 'https://www.realestate.com.kh/buy/samraong-kraom/land-224332/',\n 'https://www.realestate.com.kh/buy/samraong-kraom/land-224330/',\n 'https://www.realestate.com.kh/buy/boeung-thum/land-224320/',\n 'https://www.realestate.com.kh/buy/stueng-mean-chey/land-224255/',\n 'https://www.realestate.com.kh/buy/khmuonh/land-224253/',\n 'https://www.realestate.com.kh/buy/kakab-2/land-224249/',\n 'https://www.realestate.com.kh/buy/ponhea-pon/land-224187/',\n 'https://www.realestate.com.kh/buy/prey-veaeng/land-224186/',\n 'https://www.realestate.com.kh/buy/prey-sa/land-224183/',\n 'https://www.realestate.com.kh/buy/preaek-kampues/land-224179/',\n 'https://www.realestate.com.kh/buy/krang-thnong/land-224034/',\n 'https://www.realestate.com.kh/buy/chaom-chau/land-224032/',\n 'https://www.realestate.com.kh/buy/phleung-chheh-roteh/land-224025/',\n 'https://www.realestate.com.kh/buy/ponhea-pon/land-224021/',\n 'https://www.realestate.com.kh/buy/chaom-chau-1/land-223854/']"
          },
          "metadata": {}
        }
      ],
      "execution_count": 24,
      "metadata": {},
      "id": "6e742d1a"
    },
    {
      "cell_type": "code",
      "source": [
        "list_link[0]"
      ],
      "outputs": [
        {
          "output_type": "execute_result",
          "execution_count": 25,
          "data": {
            "text/plain": "'https://www.realestate.com.kh/buy/svay-dankum/land-229211/'"
          },
          "metadata": {}
        }
      ],
      "execution_count": 25,
      "metadata": {},
      "id": "00013178"
    },
    {
      "cell_type": "code",
      "source": [
        "#all pages\n",
        "for num in range(2,51,1):\n",
        "    try:\n",
        "        url = \"https://www.realestate.com.kh/buy/?active_tab=Recent&categories=Land%2FDevelopment&order_by=relevance&page=\"+str(num)+\"&property_type=residential&search_type=sale\"\n",
        "        request_site = Request(url, headers ={'User-Agent': 'Mozilla/5.0'} )\n",
        "        webpage = urlopen(request_site).read()\n",
        "        soup = BeautifulSoup(webpage, 'html.parser')\n",
        "        per_link = [i['href'] for i in soup.find_all('div',class_=\"info listing\", href=True)]\n",
        "\n",
        "        for i in per_link:\n",
        "            list_link.append(\"https://www.realestate.com.kh\"+i)\n",
        "    except:\n",
        "        pass"
      ],
      "outputs": [],
      "execution_count": 26,
      "metadata": {},
      "id": "b9f8f5a7"
    },
    {
      "cell_type": "code",
      "source": [
        "len(list_link)"
      ],
      "outputs": [
        {
          "output_type": "execute_result",
          "execution_count": 28,
          "data": {
            "text/plain": "915"
          },
          "metadata": {}
        }
      ],
      "execution_count": 28,
      "metadata": {},
      "id": "d94d3bf9"
    },
    {
      "cell_type": "markdown",
      "source": [
        "# Scraping land's data"
      ],
      "metadata": {},
      "id": "09d825c8"
    },
    {
      "cell_type": "code",
      "source": [
        "#land's detial\n",
        "with open('LandSale.csv','a',encoding='utf8', newline='') as f:\n",
        "    thewriter = writer(f) \n",
        "    header = ['Price','Price per m2', 'Location', 'Type','Title','Property ID', 'Original ID','Listed','Updated'] \n",
        "    thewriter.writerow(header)\n",
        "for page_num in list_link:\n",
        "    try:\n",
        "        url = page_num\n",
        "        request_site = Request(url, headers ={'User-Agent': 'Mozilla/5.0'} )\n",
        "        webpage = urlopen(request_site).read()\n",
        "        soup = BeautifulSoup(webpage, 'html.parser')\n",
        "\n",
        "        with open('LandSale.csv','a',encoding='utf8', newline='') as f:\n",
        "            thewriter = writer(f)\n",
        "\n",
        "            for i in soup.find_all('div', class_='price-container'):\n",
        "                per_price = i.find('span',class_='price-value').text\n",
        "                per_m2 = i.find('span', class_='dimension')\n",
        "                special_characters=['$','/m²','<span class=\"dimension\">','</span>']\n",
        "                for x in special_characters:\n",
        "                    per_price=per_price.replace(x,\"\")\n",
        "                    per_m2 = str(per_m2).replace(x,\"\")\n",
        "            for j in soup.find_all('div', class_='css-fy13s7 e1ffu0v20'):\n",
        "                per_location = j.find('h2').text\n",
        "            for k in soup.find_all('div', class_='features-block'):\n",
        "                per_type = k.find_all('span', class_='value')\n",
        "\n",
        "            property_overview = []\n",
        "            for t in per_type:\n",
        "                tmp = str(t)\n",
        "                special_characters=['<span class=\"value\"> ','</span>']\n",
        "                for x in special_characters:\n",
        "                    tmp=tmp.replace(x,\"\")\n",
        "                property_overview.append(tmp)\n",
        "            info = [per_price, per_m2, per_location, property_overview[0],property_overview[1],property_overview[2],property_overview[3],property_overview[4],property_overview[5]]\n",
        "            thewriter.writerow(info)\n",
        "            per_price = \"\"\n",
        "            per_m2 = \"\"\n",
        "            per_location = ''\n",
        "    except:\n",
        "        pass"
      ],
      "outputs": [],
      "execution_count": 30,
      "metadata": {},
      "id": "a686e911"
    },
    {
      "cell_type": "code",
      "source": [],
      "outputs": [],
      "execution_count": null,
      "metadata": {},
      "id": "37eb66f9"
    }
  ],
  "metadata": {
    "kernelspec": {
      "display_name": "Python 3 (ipykernel)",
      "language": "python",
      "name": "python3"
    },
    "language_info": {
      "codemirror_mode": {
        "name": "ipython",
        "version": 3
      },
      "file_extension": ".py",
      "mimetype": "text/x-python",
      "name": "python",
      "nbconvert_exporter": "python",
      "pygments_lexer": "ipython3",
      "version": "3.9.7"
    },
    "nteract": {
      "version": "nteract-front-end@1.0.0"
    }
  },
  "nbformat": 4,
  "nbformat_minor": 5
}