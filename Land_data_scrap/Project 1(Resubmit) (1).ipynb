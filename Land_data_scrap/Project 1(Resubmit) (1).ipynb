{
  "cells": [
    {
      "cell_type": "markdown",
      "source": [
        "# Group 3\n",
        "Member:\n",
        "1. KOH TITO       &emsp; &emsp; &emsp; &emsp;e20200353\n",
        "2. CHEA MAKARA    &emsp; &emsp;e20201131\n",
        "3. AOV KEATMENG   &nbsp;&nbsp;&emsp;e20201812\n",
        "4. BUT CHEABLENG  &emsp;e20200861\n",
        "5. HOK KIMLEANG   &nbsp;&nbsp;&nbsp;&emsp;e20200637"
      ],
      "metadata": {},
      "id": "00a19a50"
    },
    {
      "cell_type": "markdown",
      "source": [
        "<h2 style='text-align:center;'> Land price Analysis </h2>\n",
        "\n",
        "We are now scraping data from https://www.realestate.com.kh/ and https://www.khmer24.com/km\n",
        "\n",
        "There are 9 columns and total of 15288 rows.\n",
        "\n",
        "The attributes:\n",
        "\n",
        "* Price: (important)\n",
        "* Size: (m^2)\n",
        "* Location: To know where the land is located\n",
        "* Type: To know if it is a land for develop or not\n",
        "* Property ID: To identify the land and note down in the system\n",
        "* Original ID: an identification number that is used to identify a particular plot of land\n",
        "* Listed: Date of putting on sale\n",
        "* Updated: Date of updating the land's information "
      ],
      "metadata": {},
      "id": "a72c15d1"
    },
    {
      "cell_type": "code",
      "source": [
        "from bs4 import BeautifulSoup\n",
        "from urllib import request\n",
        "from urllib.request import Request, urlopen\n",
        "from csv import writer\n",
        "import pandas as pd"
      ],
      "outputs": [],
      "execution_count": 4,
      "metadata": {},
      "id": "a5f32a1d"
    },
    {
      "cell_type": "markdown",
      "source": [
        "<h2 style = 'text-align: center'>realestate.com.kh</h2>"
      ],
      "metadata": {},
      "id": "6d390d8f"
    },
    {
      "cell_type": "markdown",
      "source": [
        "***Get all URLs of the Land's info***"
      ],
      "metadata": {},
      "id": "6c7089c2"
    },
    {
      "cell_type": "code",
      "source": [
        "#1st page\n",
        "url = \"https://www.realestate.com.kh/buy/?active_tab=Recent&order_by=relevance&property_type=residential&search_type=sale&categories=Land%2FDevelopment\"\n",
        "request_site = Request(url, headers ={'User-Agent': 'Mozilla/5.0'} )\n",
        "webpage = urlopen(request_site).read()\n",
        "soup = BeautifulSoup(webpage, 'html.parser')\n",
        "per_link = [i['href'] for i in soup.find_all('div',class_=\"info listing\", href=True)]\n",
        "list_link = []\n",
        "for i in per_link:\n",
        "    list_link.append(\"https://www.realestate.com.kh\"+i)\n",
        "list_link"
      ],
      "outputs": [],
      "execution_count": null,
      "metadata": {},
      "id": "b14a8255"
    },
    {
      "cell_type": "code",
      "source": [
        "#all pages\n",
        "for num in range(2,51,1):\n",
        "    try:\n",
        "        url = \"https://www.realestate.com.kh/buy/?active_tab=Recent&categories=Land%2FDevelopment&order_by=relevance&page=\"+str(num)+\"&property_type=residential&search_type=sale\"\n",
        "        request_site = Request(url, headers ={'User-Agent': 'Mozilla/5.0'} )\n",
        "        webpage = urlopen(request_site).read()\n",
        "        soup = BeautifulSoup(webpage, 'html.parser')\n",
        "        per_link = [i['href'] for i in soup.find_all('div',class_=\"info listing\", href=True)]\n",
        "\n",
        "        for i in per_link:\n",
        "            list_link.append(\"https://www.realestate.com.kh\"+i)\n",
        "    except:\n",
        "        pass"
      ],
      "outputs": [],
      "execution_count": null,
      "metadata": {},
      "id": "a328ec45"
    },
    {
      "cell_type": "markdown",
      "source": [
        "***Get Land's detail***"
      ],
      "metadata": {},
      "id": "d30cafe0"
    },
    {
      "cell_type": "code",
      "source": [
        "#land's detial\n",
        "with open('LandSale.csv','a',encoding='utf8', newline='') as f:\n",
        "    thewriter = writer(f) \n",
        "    header = ['Price','Price per m2', 'Location', 'Type','Title','Property ID', 'Original ID','Listed','Updated'] \n",
        "    thewriter.writerow(header)\n",
        "for page_num in list_link:\n",
        "    try:\n",
        "        url = page_num\n",
        "        request_site = Request(url, headers ={'User-Agent': 'Mozilla/5.0'} )\n",
        "        webpage = urlopen(request_site).read()\n",
        "        soup = BeautifulSoup(webpage, 'html.parser')\n",
        "\n",
        "        with open('LandSale.csv','a',encoding='utf8', newline='') as f:\n",
        "            thewriter = writer(f)\n",
        "\n",
        "            for i in soup.find_all('div', class_='price-container'):\n",
        "                per_price = i.find('span',class_='price-value').text\n",
        "                per_m2 = i.find('span', class_='dimension')\n",
        "                special_characters=['$','/m²','<span class=\"dimension\">','</span>']\n",
        "                for x in special_characters:\n",
        "                    per_price=per_price.replace(x,\"\")\n",
        "                    per_m2 = str(per_m2).replace(x,\"\")\n",
        "            for j in soup.find_all('div', class_='css-fy13s7 e1ffu0v20'):\n",
        "                per_location = j.find('h2').text\n",
        "            for k in soup.find_all('div', class_='features-block'):\n",
        "                per_type = k.find_all('span', class_='value')\n",
        "\n",
        "            property_overview = []\n",
        "            for t in per_type:\n",
        "                tmp = str(t)\n",
        "                special_characters=['<span class=\"value\"> ','</span>']\n",
        "                for x in special_characters:\n",
        "                    tmp=tmp.replace(x,\"\")\n",
        "                property_overview.append(tmp)\n",
        "            info = [per_price, per_m2, per_location, property_overview[0],property_overview[1],property_overview[2],property_overview[3],property_overview[4],property_overview[5]]\n",
        "            thewriter.writerow(info)\n",
        "            per_price = \"\"\n",
        "            per_m2 = \"\"\n",
        "            per_location = ''\n",
        "    except:\n",
        "        pass"
      ],
      "outputs": [],
      "execution_count": null,
      "metadata": {},
      "id": "a0415a2d"
    },
    {
      "cell_type": "markdown",
      "source": [
        "<h2 style = 'text-align: center'>khmer24.com</h2>"
      ],
      "metadata": {},
      "id": "7b911af9"
    },
    {
      "cell_type": "markdown",
      "source": [
        "***Get all URLs of Land's info***"
      ],
      "metadata": {},
      "id": "616d6a63"
    },
    {
      "cell_type": "code",
      "source": [
        "#1st page\n",
        "url = \"https://www.khmer24.com/en/property/land-for-sale.html\"\n",
        "request_site = Request(url, headers = {\"User-Agent\": \"Mozilla/5.0 (Windows NT 10.0; Win64; x64) AppleWebKit/537.36 (KHTML, like Gecko) Chrome/58.0.3029.110 Safari/537.3\"})\n",
        "webpage = urlopen(request_site).read()\n",
        "soup = BeautifulSoup(webpage, 'html.parser')\n",
        "per_link = [i['href'] for i in soup.find_all('a',class_=\"border post\", href=True)]\n",
        "len(per_link)"
      ],
      "outputs": [],
      "execution_count": null,
      "metadata": {},
      "id": "3ab53036"
    },
    {
      "cell_type": "markdown",
      "source": [
        "***Get Land's detail***"
      ],
      "metadata": {},
      "id": "ffc91c2e"
    },
    {
      "cell_type": "code",
      "source": [
        "#1st page for info\n",
        "with open('LandSale2.csv','a',encoding='utf8', newline='') as f:\n",
        "    thewriter = writer(f) \n",
        "    header = ['Price','Price per m2', 'Location', 'Type','Title','Property ID', 'Original ID','Listed','Updated'] \n",
        "    thewriter.writerow(header)\n",
        "for m in per_link:\n",
        "    url1 = m\n",
        "    try:\n",
        "        url = url1.encode('ascii', 'ignore').decode('ascii')\n",
        "        request_site = Request(url, headers = {'User-Agent': 'Mozilla/5.0 (Windows NT 10.0; Win64; x64) AppleWebKit/537.36 (KHTML, like Gecko) Chrome/58.0.3029.110 Safari/537.36'})\n",
        "        webpage = urlopen(request_site).read()\n",
        "        soup = BeautifulSoup(webpage, 'html.parser')\n",
        "        with open('LandSale2.csv','a',encoding='utf8', newline='') as f:\n",
        "            thewriter = writer(f)\n",
        "            for i in soup.find_all('p', class_='price price_tag'):\n",
        "                per_price = i.find('b', class_='price').text\n",
        "                price = per_price.replace(\"$\", \"\").replace(',','')\n",
        "                price = float(price)\n",
        "            for j in soup.find_all('ul', class_='list-unstyled item-info m-0'):\n",
        "                info_list = [span.text for span in j.find_all('span', class_='value')]\n",
        "                property_id = info_list[0]\n",
        "                land_type = info_list[1]\n",
        "                location = info_list[2]\n",
        "                listed = info_list[3]\n",
        "            for k in soup.find_all('ul', class_='list-unstyled item-fields'):\n",
        "                size_list = [span.text for span in k.find_all('span', class_='value')]\n",
        "                size = float(size_list[0])\n",
        "            for l in soup.find_all('div', class_='item-detail p-3'):\n",
        "                text = l.find('p', class_='post-description').text\n",
        "            if text.find('ប្លង់រឹង') != -1:\n",
        "                title = 'Hard Title'\n",
        "            else:\n",
        "                title = 'Soft Title'\n",
        "            if price < 9999: \n",
        "                land_price = price*size\n",
        "            else:\n",
        "                land_price = price\n",
        "            info = [land_price, size, location, land_type, title,property_id,\"\",listed,'']\n",
        "            thewriter.writerow(info)\n",
        "    except:\n",
        "        pass"
      ],
      "outputs": [],
      "execution_count": null,
      "metadata": {},
      "id": "3ee0468a"
    },
    {
      "cell_type": "code",
      "source": [
        "#all pages\n",
        "for i in range(460):\n",
        "    url = \"https://www.khmer24.com/en/property/land-for-sale.html?location=&per_page=\"+str((i+1)*50)\n",
        "    request_site = Request(url, headers = {\"User-Agent\": \"Mozilla/5.0 (Windows NT 10.0; Win64; x64) AppleWebKit/537.36 (KHTML, like Gecko) Chrome/58.0.3029.110 Safari/537.3\"})\n",
        "    webpage = urlopen(request_site).read()\n",
        "    soup = BeautifulSoup(webpage, 'html.parser')\n",
        "    per_link = [i['href'] for i in soup.find_all('a',class_=\"border post\", href=True)]\n",
        "    \n",
        "    for m in per_link:\n",
        "        url1 = m\n",
        "        try:\n",
        "            url = url1.encode('ascii', 'ignore').decode('ascii')\n",
        "            request_site = Request(url, headers = {'User-Agent': 'Mozilla/5.0 (Windows NT 10.0; Win64; x64) AppleWebKit/537.36 (KHTML, like Gecko) Chrome/58.0.3029.110 Safari/537.36'})\n",
        "            webpage = urlopen(request_site).read()\n",
        "            soup = BeautifulSoup(webpage, 'html.parser')\n",
        "            with open('LandSale2.csv','a',encoding='utf8', newline='') as f:\n",
        "                thewriter = writer(f)\n",
        "                for i in soup.find_all('p', class_='price price_tag'):\n",
        "                    per_price = i.find('b', class_='price').text\n",
        "                    price = per_price.replace(\"$\", \"\").replace(',','')\n",
        "                    price = float(price)\n",
        "                for j in soup.find_all('ul', class_='list-unstyled item-info m-0'):\n",
        "                    info_list = [span.text for span in j.find_all('span', class_='value')]\n",
        "                    property_id = info_list[0]\n",
        "                    land_type = info_list[1]\n",
        "                    location = info_list[2]\n",
        "                    listed = info_list[3]\n",
        "                for k in soup.find_all('ul', class_='list-unstyled item-fields'):\n",
        "                    size_list = [span.text for span in k.find_all('span', class_='value')]\n",
        "                    size = float(size_list[0])\n",
        "                for l in soup.find_all('div', class_='item-detail p-3'):\n",
        "                    text = l.find('p', class_='post-description').text\n",
        "                if text.find('ប្លង់រឹង') != -1:\n",
        "                    title = 'Hard Title'\n",
        "                else:\n",
        "                    title = 'Soft Title'\n",
        "                if price < 9999: \n",
        "                    land_price = price*size\n",
        "                else:\n",
        "                    land_price = price\n",
        "                info = [land_price, size, location, land_type, title,property_id,\"\",listed,'']\n",
        "                thewriter.writerow(info)\n",
        "        except:\n",
        "            pass"
      ],
      "outputs": [],
      "execution_count": null,
      "metadata": {},
      "id": "6b76bcf6"
    }
  ],
  "metadata": {
    "kernelspec": {
      "display_name": "Python 3 (ipykernel)",
      "language": "python",
      "name": "python3"
    },
    "language_info": {
      "codemirror_mode": {
        "name": "ipython",
        "version": 3
      },
      "file_extension": ".py",
      "mimetype": "text/x-python",
      "name": "python",
      "nbconvert_exporter": "python",
      "pygments_lexer": "ipython3",
      "version": "3.9.15"
    },
    "nteract": {
      "version": "nteract-front-end@1.0.0"
    }
  },
  "nbformat": 4,
  "nbformat_minor": 5
}