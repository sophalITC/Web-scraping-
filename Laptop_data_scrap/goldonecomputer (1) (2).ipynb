{
  "cells": [
    {
      "cell_type": "markdown",
      "source": [
        "## Laptop Web Scraping Project Resubmit\r\n",
        "\r\n",
        "\r\n",
        "1. Ek Vong Panharith\r\n",
        "\r\n",
        "2. Chorn Seyhak\r\n",
        "\r\n",
        "3. Chea Rotha\r\n",
        "\r\n",
        "4. Chou Vandy"
      ],
      "metadata": {
        "nteract": {
          "transient": {
            "deleting": false
          }
        }
      },
      "id": "97afaf8c-0bfb-413d-ae0b-20a3129195e6"
    },
    {
      "cell_type": "code",
      "source": [
        "from bs4 import BeautifulSoup\n",
        "import requests\n",
        "import pandas as pd\n",
        "import re\n",
        "\n",
        "\n",
        "computer = []\n",
        "for i in range(1,10):\n",
        "    url = f\"https://www.goldonecomputer.com/index.php?route=product/category&path=58_374&page={i}\"\n",
        "    response = requests.get(url)\n",
        "    soup = BeautifulSoup(response.content, 'lxml')\n",
        "    products = soup.find_all('div', class_='product-details')\n",
        "\n",
        "    for product in products:\n",
        "        \n",
        "        product_title = product.find('h4').text.strip()\n",
        "        \n",
        "        product_name_match = re.search(r\"^(.+?) \\(\", product_title)\n",
        "        product_name = product_name_match.group(1) if product_name_match else 'N/A'\n",
        "       \n",
        "\n",
        "   \n",
        "\n",
        "        price_element = product.find('p', class_='price')\n",
        "        price = price_element.text.strip() if price_element else 'N/A'\n",
        "        \n",
        "        product_type_element = product.find('h4')\n",
        "        \n",
        "        if product_type_element:\n",
        "            type_text = product_type_element.find('a').text.strip()\n",
        "            type_parts = type_text.split('/')\n",
        "            \n",
        "            ram = type_parts[1].strip() if len(type_parts) > 1 else 'N/A'\n",
        "            ssd = type_parts[2].strip() if len(type_parts) > 2 else 'N/A'\n",
        "            cpu = type_parts[0].strip() if len(type_parts) > 0 else 'N/A'\n",
        "            cpu_pattern = re.compile(r'i\\d\\s+\\d+G\\d')\n",
        "            cpu_match = re.search(cpu_pattern,cpu)\n",
        "            cpu1 = cpu_match.group(0) if cpu_match else 'N/A'\n",
        "            display = type_parts[3].strip() if len(type_parts) > 3 else 'N/A'\n",
        "        else:\n",
        "            type_text, ram, ssd = 'N/A', 'N/A', 'N/A'\n",
        "        \n",
        "        computer.append([product_name, price, ram, ssd, cpu1 , display])\n",
        "\n",
        "df = pd.DataFrame(computer, columns=['Product Name', 'Price', 'RAM', 'SSD','cpu','Display/Graphic'])\n",
        "         \n",
        "     "
      ],
      "outputs": [],
      "execution_count": 71,
      "metadata": {},
      "id": "3a00c99c"
    },
    {
      "cell_type": "code",
      "source": [
        "df.to_csv('goldone.csv')"
      ],
      "outputs": [],
      "execution_count": 73,
      "metadata": {},
      "id": "977486c6"
    },
    {
      "cell_type": "code",
      "source": [
        "df.describe()"
      ],
      "outputs": [
        {
          "output_type": "execute_result",
          "execution_count": 74,
          "data": {
            "text/html": "<div>\n<style scoped>\n    .dataframe tbody tr th:only-of-type {\n        vertical-align: middle;\n    }\n\n    .dataframe tbody tr th {\n        vertical-align: top;\n    }\n\n    .dataframe thead th {\n        text-align: right;\n    }\n</style>\n<table border=\"1\" class=\"dataframe\">\n  <thead>\n    <tr style=\"text-align: right;\">\n      <th></th>\n      <th>Product Name</th>\n      <th>Price</th>\n      <th>RAM</th>\n      <th>SSD</th>\n      <th>cpu</th>\n      <th>Display/Graphic</th>\n    </tr>\n  </thead>\n  <tbody>\n    <tr>\n      <th>count</th>\n      <td>216</td>\n      <td>216</td>\n      <td>216</td>\n      <td>216</td>\n      <td>216</td>\n      <td>216</td>\n    </tr>\n    <tr>\n      <th>unique</th>\n      <td>153</td>\n      <td>164</td>\n      <td>7</td>\n      <td>22</td>\n      <td>7</td>\n      <td>54</td>\n    </tr>\n    <tr>\n      <th>top</th>\n      <td>MacBook Pro 13</td>\n      <td>$799.00</td>\n      <td>8GB</td>\n      <td>SSD 512GB PCIE</td>\n      <td>N/A</td>\n      <td>14\"FHD )</td>\n    </tr>\n    <tr>\n      <th>freq</th>\n      <td>7</td>\n      <td>5</td>\n      <td>113</td>\n      <td>78</td>\n      <td>177</td>\n      <td>35</td>\n    </tr>\n  </tbody>\n</table>\n</div>",
            "text/plain": "          Product Name    Price  RAM             SSD  cpu Display/Graphic\ncount              216      216  216             216  216             216\nunique             153      164    7              22    7              54\ntop     MacBook Pro 13  $799.00  8GB  SSD 512GB PCIE  N/A        14\"FHD )\nfreq                 7        5  113              78  177              35"
          },
          "metadata": {}
        }
      ],
      "execution_count": 74,
      "metadata": {},
      "id": "6af8a47f"
    },
    {
      "cell_type": "code",
      "source": [],
      "outputs": [],
      "execution_count": null,
      "metadata": {},
      "id": "867c25fa"
    }
  ],
  "metadata": {
    "kernelspec": {
      "name": "python",
      "language": "python",
      "display_name": "Pyolite (preview)"
    },
    "language_info": {
      "codemirror_mode": {
        "name": "python",
        "version": 3
      },
      "file_extension": ".py",
      "mimetype": "text/x-python",
      "name": "python",
      "nbconvert_exporter": "python",
      "pygments_lexer": "ipython3",
      "version": "3.8"
    },
    "kernel_info": {
      "name": "python"
    },
    "nteract": {
      "version": "nteract-front-end@1.0.0"
    }
  },
  "nbformat": 4,
  "nbformat_minor": 5
}