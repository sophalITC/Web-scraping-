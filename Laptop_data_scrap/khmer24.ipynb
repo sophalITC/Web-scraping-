{
  "cells": [
    {
      "cell_type": "markdown",
      "source": [
        "## Laptop Web Scraping Project Resubmit\r\n",
        "\r\n",
        "\r\n",
        "1. Ek Vong Panharith\r\n",
        "\r\n",
        "2. Chorn Seyhak\r\n",
        "\r\n",
        "3. Chea Rotha\r\n",
        "\r\n",
        "4Chou Vandy"
      ],
      "metadata": {
        "nteract": {
          "transient": {
            "deleting": false
          }
        }
      },
      "id": "0cb15197-d8de-4687-86b9-8d15af825499"
    },
    {
      "cell_type": "code",
      "source": [
        "import requests\n",
        "from urllib.request import urlopen\n",
        "from bs4 import BeautifulSoup\n",
        "from urllib.parse import urlencode\n",
        "import re\n",
        "import pandas as pd\n",
        "import csv\n",
        "from http.client import IncompleteRead"
      ],
      "outputs": [],
      "execution_count": null,
      "metadata": {},
      "id": "54d71841"
    },
    {
      "cell_type": "code",
      "source": [
        "API_KEY = '905b68fb-01b7-46b7-b9f8-7cb2560a388a'"
      ],
      "outputs": [],
      "execution_count": null,
      "metadata": {},
      "id": "4e2b8d38"
    },
    {
      "cell_type": "code",
      "source": [
        "productName_ = []\n",
        "Price_ = []\n",
        "processor_ = []\n",
        "ram_ = []\n",
        "brand_ = []\n",
        "storage_ = []\n",
        "display_ = []\n",
        "vga_ = []"
      ],
      "outputs": [],
      "execution_count": null,
      "metadata": {},
      "id": "a28f3c27"
    },
    {
      "cell_type": "code",
      "source": [
        "def get_scrapeops_url(url):\n",
        "    payload = {\n",
        "        'api_key' : API_KEY, \n",
        "        'url' : url\n",
        "        }\n",
        "    proxy_url = 'https://proxy.scrapeops.io/v1/?' + urlencode(payload)\n",
        "    return proxy_url\n",
        "\n",
        "for i in range(50, 51):\n",
        "    url = get_scrapeops_url(f'https://www.khmer24.com/en/c-laptops.html?q=&ad_field=&from_ad_price=300&to_ad_price=&location=&category=laptops&sortby=&per_page={i}')\n",
        "    page = requests.get(url)\n",
        "    soup = BeautifulSoup(page.text, 'html.parser')\n",
        "    print(soup)\n",
        "#     container = soup.findAll('li', class_ = 'item')\n",
        "#     for item in container:\n",
        "#         try:\n",
        "#             link = item.a['href']\n",
        "#             url = get_scrapeops_url(link)\n",
        "#             response = requests.get(url)\n",
        "#             soup = BeautifulSoup(response.text, 'html')\n",
        "#             container = soup.find('div', class_ = 'col col-8')\n",
        "#             try:\n",
        "#                 name = container.find('h1').text\n",
        "#             except Exception:\n",
        "#                 name = None\n",
        "#             try:\n",
        "#                 price = container.find(class_ = 'price').text\n",
        "#             except Exception:\n",
        "#                 price = None    \n",
        "#             description = container.findAll('li')\n",
        "#             brand = description[5].text.split(':')[1]\n",
        "#             screensize = description[7].text.split(':')[1]\n",
        "#             storage = description[8].text.split(':')[1]\n",
        "#             ram = description[9].text.split(':')[1]\n",
        "#             cpu = description[10].text.split(':')[1]\n",
        "#             vga = description[11].text.split(':')[1]\n",
        "            \n",
        "#             productName_.append(name)\n",
        "#             brand_.append(brand)\n",
        "#             Price_.append(price)\n",
        "#             display_.append(screensize)\n",
        "#             vga_.append(vga)\n",
        "#             processor_.append(cpu)\n",
        "#             storage_.append(storage)\n",
        "#             ram_.append(ram)\n",
        "                \n",
        "#         except Exception as e:\n",
        "#             print(e)\n",
        "#     i = i + 50         "
      ],
      "outputs": [],
      "execution_count": null,
      "metadata": {},
      "id": "464c2692"
    },
    {
      "cell_type": "code",
      "source": [
        "Laptop_dict = {\n",
        "        'ProductName': productName_, \n",
        "        'Brand' : brand_,\n",
        "        'Price': Price_,  \n",
        "        'Processor': processor_, \n",
        "        'RAM': ram_, \n",
        "        'VGA': vga_,\n",
        "        'Storage': storage_, \n",
        "        'Display': display_,  \n",
        "    }\n",
        "\n",
        "Laptop_dict.values()"
      ],
      "outputs": [],
      "execution_count": null,
      "metadata": {},
      "id": "7a8f0009"
    },
    {
      "cell_type": "code",
      "source": [
        "df = pd.DataFrame(Laptop_dict)\n",
        "df"
      ],
      "outputs": [],
      "execution_count": null,
      "metadata": {},
      "id": "b9e324ad"
    },
    {
      "cell_type": "code",
      "source": [
        "df.to_csv('LaptopDataKhmer24.csv', index = False)"
      ],
      "outputs": [],
      "execution_count": null,
      "metadata": {},
      "id": "efabbd3e"
    },
    {
      "cell_type": "code",
      "source": [],
      "outputs": [],
      "execution_count": null,
      "metadata": {},
      "id": "c3927743"
    }
  ],
  "metadata": {
    "kernelspec": {
      "name": "python",
      "language": "python",
      "display_name": "Pyolite (preview)"
    },
    "language_info": {
      "codemirror_mode": {
        "name": "python",
        "version": 3
      },
      "file_extension": ".py",
      "mimetype": "text/x-python",
      "name": "python",
      "nbconvert_exporter": "python",
      "pygments_lexer": "ipython3",
      "version": "3.8"
    },
    "kernel_info": {
      "name": "python"
    },
    "nteract": {
      "version": "nteract-front-end@1.0.0"
    }
  },
  "nbformat": 4,
  "nbformat_minor": 5
}