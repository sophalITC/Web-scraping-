{
  "cells": [
    {
      "cell_type": "markdown",
      "source": [
        "#  <center> `Web Scraping Data`\n",
        "## <center> <span style = 'color:red'> Topic: Part & Accessories Analysis </span>\n",
        "\n",
        "### Name of members:  <br>\n",
        "1.PHUONG BUNTHOEUN  (ID: e20201854)     <span style = 'color:blue'>**(Leader Team)** </span> <br>\n",
        "2.MEN CHANCHHORPORN (ID: e20201146) <br>\n",
        "3.LIM SUNHENG (ID: e20200807) <br>\n",
        "4.NGEAV BONAT(ID: e20201691)   <br>\n",
        "5.LEAT SEANGLONG (ID: e20200971)  <br>\n",
        "6.MEACH SEAKLAV(ID: e20200683)\n"
      ],
      "metadata": {},
      "id": "dd7ea5d0"
    },
    {
      "cell_type": "markdown",
      "source": [
        "#### Pip install libraries"
      ],
      "metadata": {},
      "id": "1e03f495"
    },
    {
      "cell_type": "code",
      "source": [
        "! pip install requests\n",
        "! pip install html5lib\n",
        "! pip install bs4"
      ],
      "outputs": [
        {
          "output_type": "stream",
          "name": "stdout",
          "text": "Requirement already satisfied: requests in c:\\users\\kit\\anaconda3\\lib\\site-packages (2.27.1)\nRequirement already satisfied: certifi>=2017.4.17 in c:\\users\\kit\\anaconda3\\lib\\site-packages (from requests) (2021.10.8)\nRequirement already satisfied: charset-normalizer~=2.0.0 in c:\\users\\kit\\anaconda3\\lib\\site-packages (from requests) (2.0.4)\nRequirement already satisfied: urllib3<1.27,>=1.21.1 in c:\\users\\kit\\anaconda3\\lib\\site-packages (from requests) (1.26.9)\nRequirement already satisfied: idna<4,>=2.5 in c:\\users\\kit\\anaconda3\\lib\\site-packages (from requests) (3.3)\nRequirement already satisfied: html5lib in c:\\users\\kit\\anaconda3\\lib\\site-packages (1.1)\nRequirement already satisfied: six>=1.9 in c:\\users\\kit\\anaconda3\\lib\\site-packages (from html5lib) (1.16.0)\nRequirement already satisfied: webencodings in c:\\users\\kit\\anaconda3\\lib\\site-packages (from html5lib) (0.5.1)\nRequirement already satisfied: bs4 in c:\\users\\kit\\anaconda3\\lib\\site-packages (0.0.1)\nRequirement already satisfied: beautifulsoup4 in c:\\users\\kit\\anaconda3\\lib\\site-packages (from bs4) (4.11.1)\nRequirement already satisfied: soupsieve>1.2 in c:\\users\\kit\\anaconda3\\lib\\site-packages (from beautifulsoup4->bs4) (2.3.1)\n"
        }
      ],
      "execution_count": 1,
      "metadata": {
        "scrolled": false
      },
      "id": "e1cdb926"
    },
    {
      "cell_type": "markdown",
      "source": [
        "#### Import all libraries and Get URL from website "
      ],
      "metadata": {},
      "id": "4d15a58b"
    },
    {
      "cell_type": "code",
      "source": [
        "from bs4 import BeautifulSoup \n",
        "from urllib import request\n",
        "from urllib.request import Request, urlopen\n",
        "from csv import writer\n",
        "import requests\n",
        "from urllib.request import urlopen as uReq\n",
        "\n",
        "URL = \"https://www.khmer24.com/en/c-computer-parts-and-accessories.html\"  \n",
        "uClient= uReq(URL)\n",
        "page_html= uClient.read()\n",
        "uClient.close()\n"
      ],
      "outputs": [
        {
          "output_type": "error",
          "ename": "URLError",
          "evalue": "<urlopen error [Errno 11001] getaddrinfo failed>",
          "traceback": [
            "\u001b[1;31m---------------------------------------------------------------------------\u001b[0m",
            "\u001b[1;31mgaierror\u001b[0m                                  Traceback (most recent call last)",
            "File \u001b[1;32m~\\anaconda3\\lib\\urllib\\request.py:1346\u001b[0m, in \u001b[0;36mAbstractHTTPHandler.do_open\u001b[1;34m(self, http_class, req, **http_conn_args)\u001b[0m\n\u001b[0;32m   1345\u001b[0m \u001b[38;5;28;01mtry\u001b[39;00m:\n\u001b[1;32m-> 1346\u001b[0m     \u001b[43mh\u001b[49m\u001b[38;5;241;43m.\u001b[39;49m\u001b[43mrequest\u001b[49m\u001b[43m(\u001b[49m\u001b[43mreq\u001b[49m\u001b[38;5;241;43m.\u001b[39;49m\u001b[43mget_method\u001b[49m\u001b[43m(\u001b[49m\u001b[43m)\u001b[49m\u001b[43m,\u001b[49m\u001b[43m \u001b[49m\u001b[43mreq\u001b[49m\u001b[38;5;241;43m.\u001b[39;49m\u001b[43mselector\u001b[49m\u001b[43m,\u001b[49m\u001b[43m \u001b[49m\u001b[43mreq\u001b[49m\u001b[38;5;241;43m.\u001b[39;49m\u001b[43mdata\u001b[49m\u001b[43m,\u001b[49m\u001b[43m \u001b[49m\u001b[43mheaders\u001b[49m\u001b[43m,\u001b[49m\n\u001b[0;32m   1347\u001b[0m \u001b[43m              \u001b[49m\u001b[43mencode_chunked\u001b[49m\u001b[38;5;241;43m=\u001b[39;49m\u001b[43mreq\u001b[49m\u001b[38;5;241;43m.\u001b[39;49m\u001b[43mhas_header\u001b[49m\u001b[43m(\u001b[49m\u001b[38;5;124;43m'\u001b[39;49m\u001b[38;5;124;43mTransfer-encoding\u001b[39;49m\u001b[38;5;124;43m'\u001b[39;49m\u001b[43m)\u001b[49m\u001b[43m)\u001b[49m\n\u001b[0;32m   1348\u001b[0m \u001b[38;5;28;01mexcept\u001b[39;00m \u001b[38;5;167;01mOSError\u001b[39;00m \u001b[38;5;28;01mas\u001b[39;00m err: \u001b[38;5;66;03m# timeout error\u001b[39;00m\n",
            "File \u001b[1;32m~\\anaconda3\\lib\\http\\client.py:1285\u001b[0m, in \u001b[0;36mHTTPConnection.request\u001b[1;34m(self, method, url, body, headers, encode_chunked)\u001b[0m\n\u001b[0;32m   1284\u001b[0m \u001b[38;5;124;03m\"\"\"Send a complete request to the server.\"\"\"\u001b[39;00m\n\u001b[1;32m-> 1285\u001b[0m \u001b[38;5;28;43mself\u001b[39;49m\u001b[38;5;241;43m.\u001b[39;49m\u001b[43m_send_request\u001b[49m\u001b[43m(\u001b[49m\u001b[43mmethod\u001b[49m\u001b[43m,\u001b[49m\u001b[43m \u001b[49m\u001b[43murl\u001b[49m\u001b[43m,\u001b[49m\u001b[43m \u001b[49m\u001b[43mbody\u001b[49m\u001b[43m,\u001b[49m\u001b[43m \u001b[49m\u001b[43mheaders\u001b[49m\u001b[43m,\u001b[49m\u001b[43m \u001b[49m\u001b[43mencode_chunked\u001b[49m\u001b[43m)\u001b[49m\n",
            "File \u001b[1;32m~\\anaconda3\\lib\\http\\client.py:1331\u001b[0m, in \u001b[0;36mHTTPConnection._send_request\u001b[1;34m(self, method, url, body, headers, encode_chunked)\u001b[0m\n\u001b[0;32m   1330\u001b[0m     body \u001b[38;5;241m=\u001b[39m _encode(body, \u001b[38;5;124m'\u001b[39m\u001b[38;5;124mbody\u001b[39m\u001b[38;5;124m'\u001b[39m)\n\u001b[1;32m-> 1331\u001b[0m \u001b[38;5;28;43mself\u001b[39;49m\u001b[38;5;241;43m.\u001b[39;49m\u001b[43mendheaders\u001b[49m\u001b[43m(\u001b[49m\u001b[43mbody\u001b[49m\u001b[43m,\u001b[49m\u001b[43m \u001b[49m\u001b[43mencode_chunked\u001b[49m\u001b[38;5;241;43m=\u001b[39;49m\u001b[43mencode_chunked\u001b[49m\u001b[43m)\u001b[49m\n",
            "File \u001b[1;32m~\\anaconda3\\lib\\http\\client.py:1280\u001b[0m, in \u001b[0;36mHTTPConnection.endheaders\u001b[1;34m(self, message_body, encode_chunked)\u001b[0m\n\u001b[0;32m   1279\u001b[0m     \u001b[38;5;28;01mraise\u001b[39;00m CannotSendHeader()\n\u001b[1;32m-> 1280\u001b[0m \u001b[38;5;28;43mself\u001b[39;49m\u001b[38;5;241;43m.\u001b[39;49m\u001b[43m_send_output\u001b[49m\u001b[43m(\u001b[49m\u001b[43mmessage_body\u001b[49m\u001b[43m,\u001b[49m\u001b[43m \u001b[49m\u001b[43mencode_chunked\u001b[49m\u001b[38;5;241;43m=\u001b[39;49m\u001b[43mencode_chunked\u001b[49m\u001b[43m)\u001b[49m\n",
            "File \u001b[1;32m~\\anaconda3\\lib\\http\\client.py:1040\u001b[0m, in \u001b[0;36mHTTPConnection._send_output\u001b[1;34m(self, message_body, encode_chunked)\u001b[0m\n\u001b[0;32m   1039\u001b[0m \u001b[38;5;28;01mdel\u001b[39;00m \u001b[38;5;28mself\u001b[39m\u001b[38;5;241m.\u001b[39m_buffer[:]\n\u001b[1;32m-> 1040\u001b[0m \u001b[38;5;28;43mself\u001b[39;49m\u001b[38;5;241;43m.\u001b[39;49m\u001b[43msend\u001b[49m\u001b[43m(\u001b[49m\u001b[43mmsg\u001b[49m\u001b[43m)\u001b[49m\n\u001b[0;32m   1042\u001b[0m \u001b[38;5;28;01mif\u001b[39;00m message_body \u001b[38;5;129;01mis\u001b[39;00m \u001b[38;5;129;01mnot\u001b[39;00m \u001b[38;5;28;01mNone\u001b[39;00m:\n\u001b[0;32m   1043\u001b[0m \n\u001b[0;32m   1044\u001b[0m     \u001b[38;5;66;03m# create a consistent interface to message_body\u001b[39;00m\n",
            "File \u001b[1;32m~\\anaconda3\\lib\\http\\client.py:980\u001b[0m, in \u001b[0;36mHTTPConnection.send\u001b[1;34m(self, data)\u001b[0m\n\u001b[0;32m    979\u001b[0m \u001b[38;5;28;01mif\u001b[39;00m \u001b[38;5;28mself\u001b[39m\u001b[38;5;241m.\u001b[39mauto_open:\n\u001b[1;32m--> 980\u001b[0m     \u001b[38;5;28;43mself\u001b[39;49m\u001b[38;5;241;43m.\u001b[39;49m\u001b[43mconnect\u001b[49m\u001b[43m(\u001b[49m\u001b[43m)\u001b[49m\n\u001b[0;32m    981\u001b[0m \u001b[38;5;28;01melse\u001b[39;00m:\n",
            "File \u001b[1;32m~\\anaconda3\\lib\\http\\client.py:1447\u001b[0m, in \u001b[0;36mHTTPSConnection.connect\u001b[1;34m(self)\u001b[0m\n\u001b[0;32m   1445\u001b[0m \u001b[38;5;124m\"\u001b[39m\u001b[38;5;124mConnect to a host on a given (SSL) port.\u001b[39m\u001b[38;5;124m\"\u001b[39m\n\u001b[1;32m-> 1447\u001b[0m \u001b[38;5;28;43msuper\u001b[39;49m\u001b[43m(\u001b[49m\u001b[43m)\u001b[49m\u001b[38;5;241;43m.\u001b[39;49m\u001b[43mconnect\u001b[49m\u001b[43m(\u001b[49m\u001b[43m)\u001b[49m\n\u001b[0;32m   1449\u001b[0m \u001b[38;5;28;01mif\u001b[39;00m \u001b[38;5;28mself\u001b[39m\u001b[38;5;241m.\u001b[39m_tunnel_host:\n",
            "File \u001b[1;32m~\\anaconda3\\lib\\http\\client.py:946\u001b[0m, in \u001b[0;36mHTTPConnection.connect\u001b[1;34m(self)\u001b[0m\n\u001b[0;32m    945\u001b[0m \u001b[38;5;124;03m\"\"\"Connect to the host and port specified in __init__.\"\"\"\u001b[39;00m\n\u001b[1;32m--> 946\u001b[0m \u001b[38;5;28mself\u001b[39m\u001b[38;5;241m.\u001b[39msock \u001b[38;5;241m=\u001b[39m \u001b[38;5;28;43mself\u001b[39;49m\u001b[38;5;241;43m.\u001b[39;49m\u001b[43m_create_connection\u001b[49m\u001b[43m(\u001b[49m\n\u001b[0;32m    947\u001b[0m \u001b[43m    \u001b[49m\u001b[43m(\u001b[49m\u001b[38;5;28;43mself\u001b[39;49m\u001b[38;5;241;43m.\u001b[39;49m\u001b[43mhost\u001b[49m\u001b[43m,\u001b[49m\u001b[38;5;28;43mself\u001b[39;49m\u001b[38;5;241;43m.\u001b[39;49m\u001b[43mport\u001b[49m\u001b[43m)\u001b[49m\u001b[43m,\u001b[49m\u001b[43m \u001b[49m\u001b[38;5;28;43mself\u001b[39;49m\u001b[38;5;241;43m.\u001b[39;49m\u001b[43mtimeout\u001b[49m\u001b[43m,\u001b[49m\u001b[43m \u001b[49m\u001b[38;5;28;43mself\u001b[39;49m\u001b[38;5;241;43m.\u001b[39;49m\u001b[43msource_address\u001b[49m\u001b[43m)\u001b[49m\n\u001b[0;32m    948\u001b[0m \u001b[38;5;66;03m# Might fail in OSs that don't implement TCP_NODELAY\u001b[39;00m\n",
            "File \u001b[1;32m~\\anaconda3\\lib\\socket.py:823\u001b[0m, in \u001b[0;36mcreate_connection\u001b[1;34m(address, timeout, source_address)\u001b[0m\n\u001b[0;32m    822\u001b[0m err \u001b[38;5;241m=\u001b[39m \u001b[38;5;28;01mNone\u001b[39;00m\n\u001b[1;32m--> 823\u001b[0m \u001b[38;5;28;01mfor\u001b[39;00m res \u001b[38;5;129;01min\u001b[39;00m \u001b[43mgetaddrinfo\u001b[49m\u001b[43m(\u001b[49m\u001b[43mhost\u001b[49m\u001b[43m,\u001b[49m\u001b[43m \u001b[49m\u001b[43mport\u001b[49m\u001b[43m,\u001b[49m\u001b[43m \u001b[49m\u001b[38;5;241;43m0\u001b[39;49m\u001b[43m,\u001b[49m\u001b[43m \u001b[49m\u001b[43mSOCK_STREAM\u001b[49m\u001b[43m)\u001b[49m:\n\u001b[0;32m    824\u001b[0m     af, socktype, proto, canonname, sa \u001b[38;5;241m=\u001b[39m res\n",
            "File \u001b[1;32m~\\anaconda3\\lib\\socket.py:954\u001b[0m, in \u001b[0;36mgetaddrinfo\u001b[1;34m(host, port, family, type, proto, flags)\u001b[0m\n\u001b[0;32m    953\u001b[0m addrlist \u001b[38;5;241m=\u001b[39m []\n\u001b[1;32m--> 954\u001b[0m \u001b[38;5;28;01mfor\u001b[39;00m res \u001b[38;5;129;01min\u001b[39;00m \u001b[43m_socket\u001b[49m\u001b[38;5;241;43m.\u001b[39;49m\u001b[43mgetaddrinfo\u001b[49m\u001b[43m(\u001b[49m\u001b[43mhost\u001b[49m\u001b[43m,\u001b[49m\u001b[43m \u001b[49m\u001b[43mport\u001b[49m\u001b[43m,\u001b[49m\u001b[43m \u001b[49m\u001b[43mfamily\u001b[49m\u001b[43m,\u001b[49m\u001b[43m \u001b[49m\u001b[38;5;28;43mtype\u001b[39;49m\u001b[43m,\u001b[49m\u001b[43m \u001b[49m\u001b[43mproto\u001b[49m\u001b[43m,\u001b[49m\u001b[43m \u001b[49m\u001b[43mflags\u001b[49m\u001b[43m)\u001b[49m:\n\u001b[0;32m    955\u001b[0m     af, socktype, proto, canonname, sa \u001b[38;5;241m=\u001b[39m res\n",
            "\u001b[1;31mgaierror\u001b[0m: [Errno 11001] getaddrinfo failed",
            "\nDuring handling of the above exception, another exception occurred:\n",
            "\u001b[1;31mURLError\u001b[0m                                  Traceback (most recent call last)",
            "Input \u001b[1;32mIn [26]\u001b[0m, in \u001b[0;36m<cell line: 9>\u001b[1;34m()\u001b[0m\n\u001b[0;32m      6\u001b[0m \u001b[38;5;28;01mfrom\u001b[39;00m \u001b[38;5;21;01murllib\u001b[39;00m\u001b[38;5;21;01m.\u001b[39;00m\u001b[38;5;21;01mrequest\u001b[39;00m \u001b[38;5;28;01mimport\u001b[39;00m urlopen \u001b[38;5;28;01mas\u001b[39;00m uReq\n\u001b[0;32m      8\u001b[0m URL \u001b[38;5;241m=\u001b[39m \u001b[38;5;124m\"\u001b[39m\u001b[38;5;124mhttps://www.khmer24.com/en/c-computer-parts-and-accessories.html\u001b[39m\u001b[38;5;124m\"\u001b[39m  \n\u001b[1;32m----> 9\u001b[0m uClient\u001b[38;5;241m=\u001b[39m \u001b[43muReq\u001b[49m\u001b[43m(\u001b[49m\u001b[43mURL\u001b[49m\u001b[43m)\u001b[49m\n\u001b[0;32m     10\u001b[0m page_html\u001b[38;5;241m=\u001b[39m uClient\u001b[38;5;241m.\u001b[39mread()\n\u001b[0;32m     11\u001b[0m uClient\u001b[38;5;241m.\u001b[39mclose()\n",
            "File \u001b[1;32m~\\anaconda3\\lib\\urllib\\request.py:214\u001b[0m, in \u001b[0;36murlopen\u001b[1;34m(url, data, timeout, cafile, capath, cadefault, context)\u001b[0m\n\u001b[0;32m    212\u001b[0m \u001b[38;5;28;01melse\u001b[39;00m:\n\u001b[0;32m    213\u001b[0m     opener \u001b[38;5;241m=\u001b[39m _opener\n\u001b[1;32m--> 214\u001b[0m \u001b[38;5;28;01mreturn\u001b[39;00m \u001b[43mopener\u001b[49m\u001b[38;5;241;43m.\u001b[39;49m\u001b[43mopen\u001b[49m\u001b[43m(\u001b[49m\u001b[43murl\u001b[49m\u001b[43m,\u001b[49m\u001b[43m \u001b[49m\u001b[43mdata\u001b[49m\u001b[43m,\u001b[49m\u001b[43m \u001b[49m\u001b[43mtimeout\u001b[49m\u001b[43m)\u001b[49m\n",
            "File \u001b[1;32m~\\anaconda3\\lib\\urllib\\request.py:517\u001b[0m, in \u001b[0;36mOpenerDirector.open\u001b[1;34m(self, fullurl, data, timeout)\u001b[0m\n\u001b[0;32m    514\u001b[0m     req \u001b[38;5;241m=\u001b[39m meth(req)\n\u001b[0;32m    516\u001b[0m sys\u001b[38;5;241m.\u001b[39maudit(\u001b[38;5;124m'\u001b[39m\u001b[38;5;124murllib.Request\u001b[39m\u001b[38;5;124m'\u001b[39m, req\u001b[38;5;241m.\u001b[39mfull_url, req\u001b[38;5;241m.\u001b[39mdata, req\u001b[38;5;241m.\u001b[39mheaders, req\u001b[38;5;241m.\u001b[39mget_method())\n\u001b[1;32m--> 517\u001b[0m response \u001b[38;5;241m=\u001b[39m \u001b[38;5;28;43mself\u001b[39;49m\u001b[38;5;241;43m.\u001b[39;49m\u001b[43m_open\u001b[49m\u001b[43m(\u001b[49m\u001b[43mreq\u001b[49m\u001b[43m,\u001b[49m\u001b[43m \u001b[49m\u001b[43mdata\u001b[49m\u001b[43m)\u001b[49m\n\u001b[0;32m    519\u001b[0m \u001b[38;5;66;03m# post-process response\u001b[39;00m\n\u001b[0;32m    520\u001b[0m meth_name \u001b[38;5;241m=\u001b[39m protocol\u001b[38;5;241m+\u001b[39m\u001b[38;5;124m\"\u001b[39m\u001b[38;5;124m_response\u001b[39m\u001b[38;5;124m\"\u001b[39m\n",
            "File \u001b[1;32m~\\anaconda3\\lib\\urllib\\request.py:534\u001b[0m, in \u001b[0;36mOpenerDirector._open\u001b[1;34m(self, req, data)\u001b[0m\n\u001b[0;32m    531\u001b[0m     \u001b[38;5;28;01mreturn\u001b[39;00m result\n\u001b[0;32m    533\u001b[0m protocol \u001b[38;5;241m=\u001b[39m req\u001b[38;5;241m.\u001b[39mtype\n\u001b[1;32m--> 534\u001b[0m result \u001b[38;5;241m=\u001b[39m \u001b[38;5;28;43mself\u001b[39;49m\u001b[38;5;241;43m.\u001b[39;49m\u001b[43m_call_chain\u001b[49m\u001b[43m(\u001b[49m\u001b[38;5;28;43mself\u001b[39;49m\u001b[38;5;241;43m.\u001b[39;49m\u001b[43mhandle_open\u001b[49m\u001b[43m,\u001b[49m\u001b[43m \u001b[49m\u001b[43mprotocol\u001b[49m\u001b[43m,\u001b[49m\u001b[43m \u001b[49m\u001b[43mprotocol\u001b[49m\u001b[43m \u001b[49m\u001b[38;5;241;43m+\u001b[39;49m\n\u001b[0;32m    535\u001b[0m \u001b[43m                          \u001b[49m\u001b[38;5;124;43m'\u001b[39;49m\u001b[38;5;124;43m_open\u001b[39;49m\u001b[38;5;124;43m'\u001b[39;49m\u001b[43m,\u001b[49m\u001b[43m \u001b[49m\u001b[43mreq\u001b[49m\u001b[43m)\u001b[49m\n\u001b[0;32m    536\u001b[0m \u001b[38;5;28;01mif\u001b[39;00m result:\n\u001b[0;32m    537\u001b[0m     \u001b[38;5;28;01mreturn\u001b[39;00m result\n",
            "File \u001b[1;32m~\\anaconda3\\lib\\urllib\\request.py:494\u001b[0m, in \u001b[0;36mOpenerDirector._call_chain\u001b[1;34m(self, chain, kind, meth_name, *args)\u001b[0m\n\u001b[0;32m    492\u001b[0m \u001b[38;5;28;01mfor\u001b[39;00m handler \u001b[38;5;129;01min\u001b[39;00m handlers:\n\u001b[0;32m    493\u001b[0m     func \u001b[38;5;241m=\u001b[39m \u001b[38;5;28mgetattr\u001b[39m(handler, meth_name)\n\u001b[1;32m--> 494\u001b[0m     result \u001b[38;5;241m=\u001b[39m \u001b[43mfunc\u001b[49m\u001b[43m(\u001b[49m\u001b[38;5;241;43m*\u001b[39;49m\u001b[43margs\u001b[49m\u001b[43m)\u001b[49m\n\u001b[0;32m    495\u001b[0m     \u001b[38;5;28;01mif\u001b[39;00m result \u001b[38;5;129;01mis\u001b[39;00m \u001b[38;5;129;01mnot\u001b[39;00m \u001b[38;5;28;01mNone\u001b[39;00m:\n\u001b[0;32m    496\u001b[0m         \u001b[38;5;28;01mreturn\u001b[39;00m result\n",
            "File \u001b[1;32m~\\anaconda3\\lib\\urllib\\request.py:1389\u001b[0m, in \u001b[0;36mHTTPSHandler.https_open\u001b[1;34m(self, req)\u001b[0m\n\u001b[0;32m   1388\u001b[0m \u001b[38;5;28;01mdef\u001b[39;00m \u001b[38;5;21mhttps_open\u001b[39m(\u001b[38;5;28mself\u001b[39m, req):\n\u001b[1;32m-> 1389\u001b[0m     \u001b[38;5;28;01mreturn\u001b[39;00m \u001b[38;5;28;43mself\u001b[39;49m\u001b[38;5;241;43m.\u001b[39;49m\u001b[43mdo_open\u001b[49m\u001b[43m(\u001b[49m\u001b[43mhttp\u001b[49m\u001b[38;5;241;43m.\u001b[39;49m\u001b[43mclient\u001b[49m\u001b[38;5;241;43m.\u001b[39;49m\u001b[43mHTTPSConnection\u001b[49m\u001b[43m,\u001b[49m\u001b[43m \u001b[49m\u001b[43mreq\u001b[49m\u001b[43m,\u001b[49m\n\u001b[0;32m   1390\u001b[0m \u001b[43m        \u001b[49m\u001b[43mcontext\u001b[49m\u001b[38;5;241;43m=\u001b[39;49m\u001b[38;5;28;43mself\u001b[39;49m\u001b[38;5;241;43m.\u001b[39;49m\u001b[43m_context\u001b[49m\u001b[43m,\u001b[49m\u001b[43m \u001b[49m\u001b[43mcheck_hostname\u001b[49m\u001b[38;5;241;43m=\u001b[39;49m\u001b[38;5;28;43mself\u001b[39;49m\u001b[38;5;241;43m.\u001b[39;49m\u001b[43m_check_hostname\u001b[49m\u001b[43m)\u001b[49m\n",
            "File \u001b[1;32m~\\anaconda3\\lib\\urllib\\request.py:1349\u001b[0m, in \u001b[0;36mAbstractHTTPHandler.do_open\u001b[1;34m(self, http_class, req, **http_conn_args)\u001b[0m\n\u001b[0;32m   1346\u001b[0m         h\u001b[38;5;241m.\u001b[39mrequest(req\u001b[38;5;241m.\u001b[39mget_method(), req\u001b[38;5;241m.\u001b[39mselector, req\u001b[38;5;241m.\u001b[39mdata, headers,\n\u001b[0;32m   1347\u001b[0m                   encode_chunked\u001b[38;5;241m=\u001b[39mreq\u001b[38;5;241m.\u001b[39mhas_header(\u001b[38;5;124m'\u001b[39m\u001b[38;5;124mTransfer-encoding\u001b[39m\u001b[38;5;124m'\u001b[39m))\n\u001b[0;32m   1348\u001b[0m     \u001b[38;5;28;01mexcept\u001b[39;00m \u001b[38;5;167;01mOSError\u001b[39;00m \u001b[38;5;28;01mas\u001b[39;00m err: \u001b[38;5;66;03m# timeout error\u001b[39;00m\n\u001b[1;32m-> 1349\u001b[0m         \u001b[38;5;28;01mraise\u001b[39;00m URLError(err)\n\u001b[0;32m   1350\u001b[0m     r \u001b[38;5;241m=\u001b[39m h\u001b[38;5;241m.\u001b[39mgetresponse()\n\u001b[0;32m   1351\u001b[0m \u001b[38;5;28;01mexcept\u001b[39;00m:\n",
            "\u001b[1;31mURLError\u001b[0m: <urlopen error [Errno 11001] getaddrinfo failed>"
          ]
        }
      ],
      "execution_count": 26,
      "metadata": {},
      "id": "8138bf1b"
    },
    {
      "cell_type": "markdown",
      "source": [
        "### => For  above method it's HTTP error 403 in Python Web Scraping so By using bellow method:\n",
        "**-----------------------------------------------------------------------------------------------------------------------------------------------------------------------------**"
      ],
      "metadata": {},
      "id": "2e5a6be7"
    },
    {
      "cell_type": "markdown",
      "source": [
        "#### Using this method"
      ],
      "metadata": {},
      "id": "a8cf6b68"
    },
    {
      "cell_type": "code",
      "source": [
        "from bs4 import BeautifulSoup \n",
        "from urllib import request\n",
        "from urllib.request import Request, urlopen\n",
        "from csv import writer\n",
        "\n",
        "# Get URL\n",
        "\n",
        "URL = \"https://www.khmer24.com/en/c-computer-parts-and-accessories.html\"\n",
        "\n",
        "request = Request(URL, headers ={'User-Agent': 'Mozilla/5.0 (Windows NT 10.0; Win64; x64) AppleWebKit/537.36 (KHTML, like Gecko) Chrome/111.0.0.0 Safari/537.36'})\n",
        "webpage = urlopen(request).read()\n",
        "\n",
        "soup = BeautifulSoup(webpage, 'html.parser')\n",
        "soup.prettify()\n",
        "\n",
        "Data = soup.findAll('div', class_ = 'item-detail')"
      ],
      "outputs": [],
      "execution_count": 1,
      "metadata": {},
      "id": "44e27183"
    },
    {
      "cell_type": "code",
      "source": [
        "# Show all detail:\n",
        "Data"
      ],
      "outputs": [
        {
          "output_type": "execute_result",
          "execution_count": 2,
          "data": {
            "text/plain": "[<div class=\"item-detail\">\n <h2 class=\"item-title truncate truncate-2\">ប្រម៉ូសិនពិសេសសម្រាប់ EPSON Projector (EB-E01, EB-X06, EB-W51, EB-FH52...)</h2>\n <p class=\"description truncate truncate-2\">(កុំភ្លេចប្រាប់ថា លោកអ្នកបានឃើញប្រម៉ូសិនក្នុង Khmer24)\n ================\n ប្រម៉ូសិនពិសេសក្នុងឱកាសបុណ្យចូលឆ្នាំថ្</p> <ul class=\"list-unstyled summary\">\n <li>Phnom Penh</li>\n <li><time datetime=\"2023-03-28\">13 hours ago</time></li>\n <li>20 hits</li> </ul>\n <p class=\"item-prices m-0 text-red\"><span class=\"price\">$330.00</span> <i class=\"remove-price\">$379</i></p>\n <div class=\"list_thumb\"><span class=\"thumb\"><img alt=\"ប្រម៉ូសិនពិសេសសម្រាប់ EPSON Projector (EB-E01, EB-X06, EB-W51, EB-FH52...)\" class=\"img-cover lazy\" data-src=\"https://images.khmer24.co/23-03-16/s--epson-projector-eb-e01-eb-x06-eb-w51-eb-fh52--165410167894610220917971-c.jpg\" src=\"https://www.khmer24.com//images/image-placeholder-256.png\"/></span><span class=\"thumb\"><img alt=\"ប្រម៉ូសិនពិសេសសម្រាប់ EPSON Projector (EB-E01, EB-X06, EB-W51, EB-FH52...)\" class=\"img-cover lazy\" data-src=\"https://images.khmer24.co/23-03-21/s--epson-projector-eb-e01-eb-x06-eb-w51-eb-fh52--165410167936926979395040-d.jpg\" src=\"https://www.khmer24.com//images/image-placeholder-256.png\"/></span><span class=\"thumb\"><img alt=\"ប្រម៉ូសិនពិសេសសម្រាប់ EPSON Projector (EB-E01, EB-X06, EB-W51, EB-FH52...)\" class=\"img-cover lazy\" data-src=\"https://images.khmer24.co/23-03-21/s--epson-projector-eb-e01-eb-x06-eb-w51-eb-fh52--165410167936926970780003-e.jpg\" src=\"https://www.khmer24.com//images/image-placeholder-256.png\"/></span></div> </div>,\n <div class=\"item-detail\">\n <h2 class=\"item-title truncate truncate-2\">Macbook Air 2011 Keyboard (A1370)</h2>\n <p class=\"description truncate truncate-2\">ក្តារចុចសម្រាប់  Macbook Air 11 \n (ថ្មី មិនទាន់បានប្រើ)​\n **ទើបតែកម្មង់មកដល់...\n Brand New Macbook Air 11 Keyboar</p> <ul class=\"list-unstyled summary\">\n <li>Siem Reap</li>\n <li><time datetime=\"2023-03-28\">1 minute ago</time></li>\n <li>0 hits</li> </ul>\n <p class=\"item-prices m-0 text-red\"><span class=\"price\">$25</span></p>\n </div>,\n <div class=\"item-detail\">\n <h2 class=\"item-title truncate truncate-2\">SSD M2 980Pro 1T Samsung Original</h2>\n <p class=\"description truncate truncate-2\">Very new 99.99% from Machine And product Original from Korean</p> <ul class=\"list-unstyled summary\">\n <li>Phnom Penh</li>\n <li><time datetime=\"2023-03-28\">2 minutes ago</time></li>\n <li>0 hits</li> </ul>\n <p class=\"item-prices m-0 text-red\"><span class=\"price\">$105</span></p>\n </div>,\n <div class=\"item-detail\">\n <h2 class=\"item-title truncate truncate-2\">Logitech G102</h2>\n <p class=\"description truncate truncate-2\">តម្លៃពិសេសរួសរាន់បងប្អូន\n អីវ៉ាន់មាននៅក្នុងស្តុកស្រាប់\n Telegram 077209748</p> <ul class=\"list-unstyled summary\">\n <li>Phnom Penh</li>\n <li><time datetime=\"2023-03-28\">7 minutes ago</time></li>\n <li>0 hits</li> </ul>\n <p class=\"item-prices m-0 text-red\"><span class=\"price\">$8</span></p>\n </div>,\n <div class=\"item-detail\">\n <h2 class=\"item-title truncate truncate-2\">RX580 8G</h2>\n <p class=\"description truncate truncate-2\">3days wanrrany .</p> <ul class=\"list-unstyled summary\">\n <li>Phnom Penh</li>\n <li><time datetime=\"2023-03-28\">8 minutes ago</time></li>\n <li>0 hits</li> </ul>\n <p class=\"item-prices m-0 text-red\"><span class=\"price\">$65</span></p>\n </div>,\n <div class=\"item-detail\">\n <h2 class=\"item-title truncate truncate-2\">Huawei Route using sim</h2>\n <p class=\"description truncate truncate-2\">អាចប្រើប្រាស់សុីមបានគ្រប់ប្រពន្ធ័សេវាខ្លាំង</p> <ul class=\"list-unstyled summary\">\n <li>Phnom Penh</li>\n <li><time datetime=\"2023-03-28\">10 minutes ago</time></li>\n <li>0 hits</li> </ul>\n <p class=\"item-prices m-0 text-red\"><span class=\"price\">$25</span></p>\n </div>,\n <div class=\"item-detail\">\n <h2 class=\"item-title truncate truncate-2\">30$ Mikrotik RB951-UI seconds hand ស្អាត98%</h2>\n <p class=\"description truncate truncate-2\">Warranty 3month</p> <ul class=\"list-unstyled summary\">\n <li>Phnom Penh</li>\n <li><time datetime=\"2023-03-28\">15 minutes ago</time></li>\n <li>0 hits</li> </ul>\n <p class=\"item-prices m-0 text-red\"><span class=\"price\">$30</span></p>\n </div>,\n <div class=\"item-detail\">\n <h2 class=\"item-title truncate truncate-2\">TOTO Link ac1200 23$</h2>\n <p class=\"description truncate truncate-2\">Need sell router soncond hand</p> <ul class=\"list-unstyled summary\">\n <li>Phnom Penh</li>\n <li><time datetime=\"2023-03-28\">15 minutes ago</time></li>\n <li>0 hits</li> </ul>\n <p class=\"item-prices m-0 text-red\"><span class=\"price\">$23</span></p>\n </div>,\n <div class=\"item-detail\">\n <h2 class=\"item-title truncate truncate-2\">17$TP-LINk Model AC1200</h2>\n <p class=\"description truncate truncate-2\">Warranty 2month contact 078211901 or telegram</p> <ul class=\"list-unstyled summary\">\n <li>Phnom Penh</li>\n <li><time datetime=\"2023-03-28\">15 minutes ago</time></li>\n <li>0 hits</li> </ul>\n <p class=\"item-prices m-0 text-red\"><span class=\"price\">$17</span></p>\n </div>,\n <div class=\"item-detail\">\n <h2 class=\"item-title truncate truncate-2\">Totolink a600r 15$</h2>\n <p class=\"description truncate truncate-2\">Router secondhand</p> <ul class=\"list-unstyled summary\">\n <li>Phnom Penh</li>\n <li><time datetime=\"2023-03-28\">15 minutes ago</time></li>\n <li>0 hits</li> </ul>\n <p class=\"item-prices m-0 text-red\"><span class=\"price\">$15</span></p>\n </div>,\n <div class=\"item-detail\">\n <h2 class=\"item-title truncate truncate-2\">CPU Core i7-6700</h2>\n <p class=\"description truncate truncate-2\">CPU core i7-6700\n @3.40GHz\n price 159$\n Telegram 0977466885</p> <ul class=\"list-unstyled summary\">\n <li>Svay Rieng</li>\n <li><time datetime=\"2023-03-28\">16 minutes ago</time></li>\n <li>1 hits</li> </ul>\n <p class=\"item-prices m-0 text-red\"><span class=\"price\">$139</span></p>\n </div>,\n <div class=\"item-detail\">\n <h2 class=\"item-title truncate truncate-2\">លក់case 1ទឹក អន់ព័ណ៌បន្តិច</h2>\n <p class=\"description truncate truncate-2\">លក់ដូរខេសថ្មី</p> <ul class=\"list-unstyled summary\">\n <li>Phnom Penh</li>\n <li><time datetime=\"2023-03-28\">24 minutes ago</time></li>\n <li>2 hits</li> </ul>\n <p class=\"item-prices m-0 text-red\"><span class=\"price\">$30</span></p>\n </div>,\n <div class=\"item-detail\">\n <h2 class=\"item-title truncate truncate-2\">Ssd 128</h2>\n <p class=\"description truncate truncate-2\">លក់ព្រោះអត់ប្រើ</p> <ul class=\"list-unstyled summary\">\n <li>Phnom Penh</li>\n <li><time datetime=\"2023-03-28\">24 minutes ago</time></li>\n <li>0 hits</li> </ul>\n <p class=\"item-prices m-0 text-red\"><span class=\"price\">$15</span></p>\n </div>,\n <div class=\"item-detail\">\n <h2 class=\"item-title truncate truncate-2\">GTX01650 4G gigabyte</h2>\n <p class=\"description truncate truncate-2\">Have only one can contact me with telegram 095450012 or call 017716688</p> <ul class=\"list-unstyled summary\">\n <li>Phnom Penh</li>\n <li><time datetime=\"2023-03-28\">24 minutes ago</time></li>\n <li>1 hits</li> </ul>\n <p class=\"item-prices m-0 text-red\"><span class=\"price\">$110</span></p>\n </div>,\n <div class=\"item-detail\">\n <h2 class=\"item-title truncate truncate-2\">Usb type C to usb flash </h2>\n <p class=\"description truncate truncate-2\">ក្បាលគ្រាប់ USB មក Type C \n   ភ្ជាប់ជាមួយខ្សែសាកថ្មបាន\n តំលៃ: 3$\n ទំនាក់ទំនងលេខ៖ 099896741</p> <ul class=\"list-unstyled summary\">\n <li>Phnom Penh</li>\n <li><time datetime=\"2023-03-28\">25 minutes ago</time></li>\n <li>1 hits</li> </ul>\n <p class=\"item-prices m-0 text-red\"><span class=\"price\">$3</span></p>\n </div>,\n <div class=\"item-detail\">\n <h2 class=\"item-title truncate truncate-2\">ROG RAPTURE TRI-BAND-WIFI 6 GT-AX11000</h2>\n <p class=\"description truncate truncate-2\">មានលក់នៅ រេឌានកុំព្យូទ័រ\n Available at Radiance Computer\n \n ☎️ 𝟬𝟴𝟲𝟲𝟭𝟲𝟮𝟲𝟭 - 𝟬𝟴𝟱𝟲𝟲𝟰𝟲𝟰𝟳\n 𝑻𝒆𝒍𝒆𝒈𝒓𝒂𝒎: 𝟬𝟴𝟲𝟲</p> <ul class=\"list-unstyled summary\">\n <li>Phnom Penh</li>\n <li><time datetime=\"2023-03-28\">26 minutes ago</time></li>\n <li>1 hits</li> </ul>\n <p class=\"item-prices m-0 text-red\"><span class=\"price\">$399</span></p>\n </div>,\n <div class=\"item-detail\">\n <h2 class=\"item-title truncate truncate-2\">Flash Adata USB 3.2 &amp; 2.0 Special Price For End Year</h2>\n <p class=\"description truncate truncate-2\">Adata Flash 32GB 3.2 = $5\n Adata Flash 64GB 3.2 = $6\n Adata Flash 128GB 3.2 = $13\n Adata Flash 64GB 2.0 = $5\n </p> <ul class=\"list-unstyled summary\">\n <li>Phnom Penh</li>\n <li><time datetime=\"2023-03-28\">26 minutes ago</time></li>\n <li>2 hits</li> </ul>\n <p class=\"item-prices m-0 text-red\"><span class=\"price\">$5</span></p>\n </div>,\n <div class=\"item-detail\">\n <h2 class=\"item-title truncate truncate-2\">ឈុតចង្កូតឡាន PXN V9</h2>\n <p class=\"description truncate truncate-2\">ឈុតចង្កូតឡាន PXN V9 | តម្លៃ 135$ មានទាំងចង្កឺះលេខ មកជាមួយទៀត ហើយមានការធានាត្រឹមត្រូវ អរគុណសម្រាប់ការ Support \\</p> <ul class=\"list-unstyled summary\">\n <li>Battambang</li>\n <li><time datetime=\"2023-03-28\">41 minutes ago</time></li>\n <li>1 hits</li> </ul>\n <p class=\"item-prices m-0 text-red\"><span class=\"price\">$135</span></p>\n </div>,\n <div class=\"item-detail\">\n <h2 class=\"item-title truncate truncate-2\">Keyboard ម៉ាក Hp Dell Lenovo ហ្សីន មួយទឹកមកពីសហរដ្ឋអាមេរិច នៅថ្មី90%</h2>\n <p class=\"description truncate truncate-2\">Galaxy computer shop មានលក់បោះដុំ នឹង រាយ នៅប្រភេទ keyboard ហ្សីន ប្រេន  Hp Dell Lenovo មួយទឹក មកពីសហរដ្ឋអាមេរ</p> <ul class=\"list-unstyled summary\">\n <li>Phnom Penh</li>\n <li><time datetime=\"2023-03-28\">42 minutes ago</time></li>\n <li>3 hits</li> </ul>\n <p class=\"item-prices m-0 text-red\"><span class=\"price\">$5</span></p>\n </div>,\n <div class=\"item-detail\">\n <h2 class=\"item-title truncate truncate-2\">Screen for all Laptop</h2>\n <p class=\"description truncate truncate-2\">Screen for Laptop \n +Simple Screen ( 2hand )\n .Screen LCD 15 inch = 20$\n .Screen LCD 14 inch = 15$\n + Wide Scr</p> <ul class=\"list-unstyled summary\">\n <li>Phnom Penh</li>\n <li><time datetime=\"2023-03-28\">43 minutes ago</time></li>\n <li>1 hits</li> </ul>\n <p class=\"item-prices m-0 text-red\"><span class=\"price\">$45</span></p>\n </div>,\n <div class=\"item-detail\">\n <h2 class=\"item-title truncate truncate-2\">USP TruPower TP1250VA UPS Universal</h2>\n <p class=\"description truncate truncate-2\">☎️ 𝟬𝟴𝟲𝟲𝟭𝟲𝟮𝟲𝟭 - 𝟬𝟴𝟱𝟲𝟲𝟰𝟲𝟰𝟳\n 𝑻𝒆𝒍𝒆𝒈𝒓𝒂𝒎: 𝟬𝟴𝟲𝟲𝟭𝟲𝟮𝟲𝟭\n https://t.me/radiancecomputerkh\n --------------------</p> <ul class=\"list-unstyled summary\">\n <li>Phnom Penh</li>\n <li><time datetime=\"2023-03-28\">51 minutes ago</time></li>\n <li>1 hits</li> </ul>\n <p class=\"item-prices m-0 text-red\"><span class=\"price\">$60</span></p>\n </div>,\n <div class=\"item-detail\">\n <h2 class=\"item-title truncate truncate-2\">Lexar NM620 Gen 3 NVme 1TB</h2>\n <p class=\"description truncate truncate-2\">មានលក់នៅរេឌានកុំព្យូទ័រ\n Available at Radiance Computer\n Telegram: 086 61 62 61\n  https://t.me/radiancecomputerkh</p> <ul class=\"list-unstyled summary\">\n <li>Phnom Penh</li>\n <li><time datetime=\"2023-03-28\">51 minutes ago</time></li>\n <li>0 hits</li> </ul>\n <p class=\"item-prices m-0 text-red\"><span class=\"price\">$80</span></p>\n </div>,\n <div class=\"item-detail\">\n <h2 class=\"item-title truncate truncate-2\">Lexar NM620 Gen3 Nvme 512GB</h2>\n <p class=\"description truncate truncate-2\">មានលក់នៅរេឌានកុំព្យូទ័រ\n Available at Radiance Computer\n Telegram: 086 61 62 61\n  https://t.me/radiancecomputerkh</p> <ul class=\"list-unstyled summary\">\n <li>Phnom Penh</li>\n <li><time datetime=\"2023-03-28\">51 minutes ago</time></li>\n <li>1 hits</li> </ul>\n <p class=\"item-prices m-0 text-red\"><span class=\"price\">$45</span></p>\n </div>,\n <div class=\"item-detail\">\n <h2 class=\"item-title truncate truncate-2\">Speaker Edifier XM6BT</h2>\n <p class=\"description truncate truncate-2\">☎️ 𝟬𝟴𝟲𝟲𝟭𝟲𝟮𝟲𝟭 - 𝟬𝟴𝟱𝟲𝟲𝟰𝟲𝟰𝟳\n 𝑻𝒆𝒍𝒆𝒈𝒓𝒂𝒎: 𝟬𝟴𝟲𝟲𝟭𝟲𝟮𝟲𝟭\n https://t.me/radiancecomputerkh\n --------------------</p> <ul class=\"list-unstyled summary\">\n <li>Phnom Penh</li>\n <li><time datetime=\"2023-03-28\">51 minutes ago</time></li>\n <li>1 hits</li> </ul>\n <p class=\"item-prices m-0 text-red\"><span class=\"price\">$69</span></p>\n </div>,\n <div class=\"item-detail\">\n <h2 class=\"item-title truncate truncate-2\">TP-Link Dual Band Archer C80</h2>\n <p class=\"description truncate truncate-2\">☎️ 𝟬𝟴𝟲𝟲𝟭𝟲𝟮𝟲𝟭 - 𝟬𝟴𝟱𝟲𝟲𝟰𝟲𝟰𝟳\n 𝑻𝒆𝒍𝒆𝒈𝒓𝒂𝒎: 𝟬𝟴𝟲𝟲𝟭𝟲𝟮𝟲𝟭\n https://t.me/radiancecomputerkh\n --------------------</p> <ul class=\"list-unstyled summary\">\n <li>Phnom Penh</li>\n <li><time datetime=\"2023-03-28\">51 minutes ago</time></li>\n <li>1 hits</li> </ul>\n <p class=\"item-prices m-0 text-red\"><span class=\"price\">$41</span></p>\n </div>,\n <div class=\"item-detail\">\n <h2 class=\"item-title truncate truncate-2\">Router Gaming Asus Tuf AX5400 Wifi 6</h2>\n <p class=\"description truncate truncate-2\">មានលក់នៅ រេឌានកុំព្យូទ័រ\n Available at Radiance Computer\n ☎️ 𝟬𝟴𝟲𝟲𝟭𝟲𝟮𝟲𝟭 - 𝟬𝟴𝟱𝟲𝟲𝟰𝟲𝟰𝟳\n 𝑻𝒆𝒍𝒆𝒈𝒓𝒂𝒎: 𝟬𝟴𝟲𝟲𝟭𝟲</p> <ul class=\"list-unstyled summary\">\n <li>Phnom Penh</li>\n <li><time datetime=\"2023-03-28\">51 minutes ago</time></li>\n <li>0 hits</li> </ul>\n <p class=\"item-prices m-0 text-red\"><span class=\"price\">$185</span></p>\n </div>,\n <div class=\"item-detail\">\n <h2 class=\"item-title truncate truncate-2\">Samsung 980 Pro PCle 4.0 NVme 1TB</h2>\n <p class=\"description truncate truncate-2\">មានលក់នៅរេឌានកុំព្យូទ័រ\n Available at Radiance Computer\n Telegram: 086 61 62 61\n  https://t.me/radiancecomputerkh</p> <ul class=\"list-unstyled summary\">\n <li>Phnom Penh</li>\n <li><time datetime=\"2023-03-28\">51 minutes ago</time></li>\n <li>0 hits</li> </ul>\n <p class=\"item-prices m-0 text-red\"><span class=\"price\">$145</span></p>\n </div>,\n <div class=\"item-detail\">\n <h2 class=\"item-title truncate truncate-2\">ASUS DUAL BAND PCI-E WIFI 6 PCLE-AX3000</h2>\n <p class=\"description truncate truncate-2\">មានលក់នៅ រេឌានកុំព្យូទ័រ\n Available at Radiance Computer\n \n ☎️ 𝟬𝟴𝟲𝟲𝟭𝟲𝟮𝟲𝟭 - 𝟬𝟴𝟱𝟲𝟲𝟰𝟲𝟰𝟳\n 𝑻𝒆𝒍𝒆𝒈𝒓𝒂𝒎: 𝟬𝟴𝟲𝟲</p> <ul class=\"list-unstyled summary\">\n <li>Phnom Penh</li>\n <li><time datetime=\"2023-03-28\">51 minutes ago</time></li>\n <li>1 hits</li> </ul>\n <p class=\"item-prices m-0 text-red\"><span class=\"price\">$29</span></p>\n </div>,\n <div class=\"item-detail\">\n <h2 class=\"item-title truncate truncate-2\">Speaker Edifier M1360</h2>\n <p class=\"description truncate truncate-2\">☎️ 𝟬𝟴𝟲𝟲𝟭𝟲𝟮𝟲𝟭 - 𝟬𝟴𝟱𝟲𝟲𝟰𝟲𝟰𝟳\n 𝑻𝒆𝒍𝒆𝒈𝒓𝒂𝒎: 𝟬𝟴𝟲𝟲𝟭𝟲𝟮𝟲𝟭\n https://t.me/radiancecomputerkh\n --------------------</p> <ul class=\"list-unstyled summary\">\n <li>Phnom Penh</li>\n <li><time datetime=\"2023-03-28\">51 minutes ago</time></li>\n <li>2 hits</li> </ul>\n <p class=\"item-prices m-0 text-red\"><span class=\"price\">$29</span></p>\n </div>,\n <div class=\"item-detail\">\n <h2 class=\"item-title truncate truncate-2\">Speaker Edifier R1855DB</h2>\n <p class=\"description truncate truncate-2\">☎️ 𝟬𝟴𝟲𝟲𝟭𝟲𝟮𝟲𝟭 - 𝟬𝟴𝟱𝟲𝟲𝟰𝟲𝟰𝟳\n 𝑻𝒆𝒍𝒆𝒈𝒓𝒂𝒎: 𝟬𝟴𝟲𝟲𝟭𝟲𝟮𝟲𝟭\n https://t.me/radiancecomputerkh\n --------------------</p> <ul class=\"list-unstyled summary\">\n <li>Phnom Penh</li>\n <li><time datetime=\"2023-03-28\">51 minutes ago</time></li>\n <li>5 hits</li> </ul>\n <p class=\"item-prices m-0 text-red\"><span class=\"price\">$149</span></p>\n </div>,\n <div class=\"item-detail\">\n <h2 class=\"item-title truncate truncate-2\">HUAWEI WI-FI 6 PLUS REVOLUTION AX3 QUAD-CORE / AX3000</h2>\n <p class=\"description truncate truncate-2\">មានលក់នៅ រេឌានកុំព្យូទ័រ\n Available at Radiance Computer\n \n ☎️ 𝟬𝟴𝟲𝟲𝟭𝟲𝟮𝟲𝟭 - 𝟬𝟴𝟱𝟲𝟲𝟰𝟲𝟰𝟳\n 𝑻𝒆𝒍𝒆𝒈𝒓𝒂𝒎: 𝟬𝟴𝟲𝟲</p> <ul class=\"list-unstyled summary\">\n <li>Phnom Penh</li>\n <li><time datetime=\"2023-03-28\">51 minutes ago</time></li>\n <li>0 hits</li> </ul>\n <p class=\"item-prices m-0 text-red\"><span class=\"price\">$69</span></p>\n </div>,\n <div class=\"item-detail\">\n <h2 class=\"item-title truncate truncate-2\">Router TP-Link AX10 New Arrivals</h2>\n <p class=\"description truncate truncate-2\">==================\n ☎️ 𝟬𝟴𝟲𝟲𝟭𝟲𝟮𝟲𝟭 - 𝟬𝟴𝟱𝟲𝟲𝟰𝟲𝟰𝟳\n 𝑻𝒆𝒍𝒆𝒈𝒓𝒂𝒎: 𝟬𝟴𝟲𝟲𝟭𝟲𝟮𝟲𝟭\n https://t.me/radiancecomputerkh\n ----</p> <ul class=\"list-unstyled summary\">\n <li>Phnom Penh</li>\n <li><time datetime=\"2023-03-28\">51 minutes ago</time></li>\n <li>0 hits</li> </ul>\n <p class=\"item-prices m-0 text-red\"><span class=\"price\">$55</span></p>\n </div>,\n <div class=\"item-detail\">\n <h2 class=\"item-title truncate truncate-2\">Speaker Edifier PW312</h2>\n <p class=\"description truncate truncate-2\">☎️ 𝟬𝟴𝟲𝟲𝟭𝟲𝟮𝟲𝟭 - 𝟬𝟴𝟱𝟲𝟲𝟰𝟲𝟰𝟳\n 𝑻𝒆𝒍𝒆𝒈𝒓𝒂𝒎: 𝟬𝟴𝟲𝟲𝟭𝟲𝟮𝟲𝟭\n https://t.me/radiancecomputerkh\n --------------------</p> <ul class=\"list-unstyled summary\">\n <li>Phnom Penh</li>\n <li><time datetime=\"2023-03-28\">51 minutes ago</time></li>\n <li>2 hits</li> </ul>\n <p class=\"item-prices m-0 text-red\"><span class=\"price\">$149</span></p>\n </div>,\n <div class=\"item-detail\">\n <h2 class=\"item-title truncate truncate-2\">PVC Card</h2>\n <p class=\"description truncate truncate-2\">PVC Card សំរាប់ព្រីនជាកាតបុគ្គលិក កាតសិស្ស កាតបញ្ចុះតំលៃផ្សេងៗ សាច់កាតស្អាត \n ទិញកាន់តែច្រើនផ្តល់ជូនតំលៃកាន់តែព</p> <ul class=\"list-unstyled summary\">\n <li>Phnom Penh</li>\n <li><time datetime=\"2023-03-28\">53 minutes ago</time></li>\n <li>2 hits</li> </ul>\n <p class=\"item-prices m-0 text-red\"><span class=\"price\">$0.13</span></p>\n </div>,\n <div class=\"item-detail\">\n <h2 class=\"item-title truncate truncate-2\">Gaming Keyboard</h2>\n <p class=\"description truncate truncate-2\">😍Pre-Order Keyboard KA6406\n #computeraacessories  #gamingaccessories\n #gamingcomputer \n សូមទំនាក់ទំនង\\</p> <ul class=\"list-unstyled summary\">\n <li>Phnom Penh</li>\n <li><time datetime=\"2023-03-28\">53 minutes ago</time></li>\n <li>3 hits</li> </ul>\n <p class=\"item-prices m-0 text-red\"><span class=\"price\">$18</span></p>\n </div>,\n <div class=\"item-detail\">\n <h2 class=\"item-title truncate truncate-2\">3070 founder edition fan 2 99%</h2>\n <p class=\"description truncate truncate-2\">Buy for mining becuz GPU cheap but Coin going down យកលក់វិញទាំងស្អាយ</p> <ul class=\"list-unstyled summary\">\n <li>Phnom Penh</li>\n <li><time datetime=\"2023-03-28\">59 minutes ago</time></li>\n <li>3 hits</li> </ul>\n <p class=\"item-prices m-0 text-red\"><span class=\"price\">$350</span></p>\n </div>,\n <div class=\"item-detail\">\n <h2 class=\"item-title truncate truncate-2\">Hard Disk WD 12TB HDD Ultra Data Center</h2>\n <p class=\"description truncate truncate-2\">Code: 0002600\n Hard Disk WD 12TB HDD Ultra Data Center \n \n Price: Xx$ ( In Telegram) \n ******************** \n https</p> <ul class=\"list-unstyled summary\">\n <li>Phnom Penh</li>\n <li><time datetime=\"2023-03-28\">1 hour ago</time></li>\n <li>2 hits</li> </ul>\n <p class=\"item-prices m-0 text-red\"><span class=\"price\">$0.01</span></p>\n </div>,\n <div class=\"item-detail\">\n <h2 class=\"item-title truncate truncate-2\">Flash លក់ធូរៗ 32GB, 64GB, 128GB USB 3.2 = ចាប់ពី 5$</h2>\n <p class=\"description truncate truncate-2\">Flash Adata UV128 USB3.2  32GB = $5\n Flash Adata UV128 USB3.2  64GB = $6\n Flash Adata UV128 USB3.2  128GB = $13\n </p> <ul class=\"list-unstyled summary\">\n <li>Phnom Penh</li>\n <li><time datetime=\"2023-03-28\">1 hour ago</time></li>\n <li>2 hits</li> </ul>\n <p class=\"item-prices m-0 text-red\"><span class=\"price\">$5</span></p>\n </div>,\n <div class=\"item-detail\">\n <h2 class=\"item-title truncate truncate-2\">TPLink Mini Wireless N USB Adapter TL-WN823N 300Mbps</h2>\n <p class=\"description truncate truncate-2\">TL-WN823N | 300Mbps Mini Wireless N USB Adapter \n -300Mbps wireless speed ideal for smooth HD video, voice str</p> <ul class=\"list-unstyled summary\">\n <li>Phnom Penh</li>\n <li><time datetime=\"2023-03-28\">1 hour ago</time></li>\n <li>1 hits</li> </ul>\n <p class=\"item-prices m-0 text-red\"><span class=\"price\">$10.00</span> <i class=\"remove-price\">$12</i></p>\n </div>,\n <div class=\"item-detail\">\n <h2 class=\"item-title truncate truncate-2\">Razer deathadder essential Gaming Mouse</h2>\n <p class=\"description truncate truncate-2\">Telegram: 086 61 62 61\n  https://t.me/radiancecomputerkh\n \n Call Now: 086 61 62 61 - 085 66 46 47\n Website: www.ra</p> <ul class=\"list-unstyled summary\">\n <li>Phnom Penh</li>\n <li><time datetime=\"2023-03-28\">1 hour ago</time></li>\n <li>2 hits</li> </ul>\n <p class=\"item-prices m-0 text-red\"><span class=\"price\">$20</span></p>\n </div>,\n <div class=\"item-detail\">\n <h2 class=\"item-title truncate truncate-2\">Printer Epson L3210 Color Print/ Scan/ Copy</h2>\n <p class=\"description truncate truncate-2\">មានលក់នៅរេឌានកុំព្យូទ័រ\n Available at Radiance Computer\n Telegram: 086 61 62 61\n  https://t.me/radiancecompute</p> <ul class=\"list-unstyled summary\">\n <li>Phnom Penh</li>\n <li><time datetime=\"2023-03-28\">1 hour ago</time></li>\n <li>2 hits</li> </ul>\n <p class=\"item-prices m-0 text-red\"><span class=\"price\">$149.00</span> <i class=\"remove-price\">$159</i></p>\n </div>,\n <div class=\"item-detail\">\n <h2 class=\"item-title truncate truncate-2\">Laptop Charger, Dell, Lenovo, Asus, </h2>\n <p class=\"description truncate truncate-2\">+DELL Laptop Series \n DELL 65W 19.5V 3.34A Laptop Adapter MGJN9 65 W Adapter.\n DELL 65W 19.5V 3.34A Laptop Ada</p> <ul class=\"list-unstyled summary\">\n <li>Phnom Penh</li>\n <li><time datetime=\"2023-03-28\">1 hour ago</time></li>\n <li>1 hits</li> </ul>\n <p class=\"item-prices m-0 text-red\"><span class=\"price\">$10</span></p>\n </div>,\n <div class=\"item-detail\">\n <h2 class=\"item-title truncate truncate-2\">COOLMOON AR120  Liquid cooler PWM water cooling for PC CPU computer radiator 5V water cpu cooler</h2>\n <p class=\"description truncate truncate-2\">COOLMOON AR120  Liquid cooler PWM water cooling for PC CPU computer radiator 5V water cpu cooler\n         120M</p> <ul class=\"list-unstyled summary\">\n <li>Phnom Penh</li>\n <li><time datetime=\"2023-03-28\">1 hour ago</time></li>\n <li>1 hits</li> </ul>\n <p class=\"item-prices m-0 text-red\"><span class=\"price\">$50</span></p>\n </div>,\n <div class=\"item-detail\">\n <h2 class=\"item-title truncate truncate-2\">នៅចាំអីទៀត!រីករាយជាមួយBlack Friday!!! ចុះតំលៃអស់ស្ទះ!!ប្រញាប់ឡេីង!!បងៗ</h2>\n <p class=\"description truncate truncate-2\">តោះ!បងៗនៅចាំអីទៀត!រីករាយជាមួយBlack Friday!!! ចុះតំលៃអស់ស្ទះ!!ប្រញាប់ឡេីង!!បងៗជាទីស្រឡាញ់ កម្ម៉ង់ភ្លាមដឹកជូនភ្ល</p> <ul class=\"list-unstyled summary\">\n <li>Phnom Penh</li>\n <li><time datetime=\"2023-03-28\">1 hour ago</time></li>\n <li>1 hits</li> </ul>\n <p class=\"item-prices m-0 text-red\"><span class=\"price\">$12</span></p>\n </div>,\n <div class=\"item-detail\">\n <h2 class=\"item-title truncate truncate-2\">TP-Link Deco X68 3-Pack</h2>\n <p class=\"description truncate truncate-2\">TP-Link Deco X68 AX3600 Whole Home Mesh WiFi 6 System $330 3-Pack\n ⭐1802 Mbps + 1201 Mbps + 574 Mbps\n \\u2</p> <ul class=\"list-unstyled summary\">\n <li>Phnom Penh</li>\n <li><time datetime=\"2023-03-28\">1 hour ago</time></li>\n <li>1 hits</li> </ul>\n <p class=\"item-prices m-0 text-red\"><span class=\"price\">$329.99</span></p>\n </div>,\n <div class=\"item-detail\">\n <h2 class=\"item-title truncate truncate-2\">usb hub 32ports</h2>\n <p class=\"description truncate truncate-2\">usb hub 32ports</p> <ul class=\"list-unstyled summary\">\n <li>Phnom Penh</li>\n <li><time datetime=\"2023-03-28\">1 hour ago</time></li>\n <li>1 hits</li> </ul>\n <p class=\"item-prices m-0 text-red\"><span class=\"price\">$50</span></p>\n </div>,\n <div class=\"item-detail\">\n <h2 class=\"item-title truncate truncate-2\">ASUS ROG Strix AMD Radeon RX 5500XT Overclocked 8G GDDR6 1440p HDMI DisplayPort Gaming Graphics Card</h2>\n <p class=\"description truncate truncate-2\">I wanna Sell VGA Radeon RX 5500 XT\n \n *Note: No Box\n \n rx5500xt rx 5500xt rx5500 xt</p> <ul class=\"list-unstyled summary\">\n <li>Phnom Penh</li>\n <li><time datetime=\"2023-03-28\">1 hour ago</time></li>\n <li>0 hits</li> </ul>\n <p class=\"item-prices m-0 text-red\"><span class=\"price\">$215</span></p>\n </div>,\n <div class=\"item-detail\">\n <h2 class=\"item-title truncate truncate-2\">Archer AX20 - AX1800 Wi-Fi 6 Router</h2>\n <p class=\"description truncate truncate-2\">Archer AX20 - AX1800 Wi-Fi 6 Router $70 សាកសមសំរាប់ ការប្រើក្នុងគេហដ្ឋាន ឬការិយាល័យខ្នាតតូចនិងមធ្យម\n •Wireless</p> <ul class=\"list-unstyled summary\">\n <li>Phnom Penh</li>\n <li><time datetime=\"2023-03-28\">1 hour ago</time></li>\n <li>1 hits</li> </ul>\n <p class=\"item-prices m-0 text-red\"><span class=\"price\">$70</span></p>\n </div>,\n <div class=\"item-detail\">\n <h2 class=\"item-title truncate truncate-2\">Apple Keyboard A1314 for sell 99%</h2>\n <p class=\"description truncate truncate-2\">Apple keyboard for sell នៅថ្មីដូចក្នុងរូប អត់សូវប្រើចង់លក់វិញ ត្រូវការអាចទាក់ទងបាន</p> <ul class=\"list-unstyled summary\">\n <li>Phnom Penh</li>\n <li><time datetime=\"2023-03-28\">1 hour ago</time></li>\n <li>19 hits</li> </ul>\n <p class=\"item-prices m-0 text-red\"><span class=\"price\">$40</span></p>\n </div>,\n <div class=\"item-detail\">\n <h2 class=\"item-title truncate truncate-2\">✨✨ជើងទ្រលេតថប/Laptop Stand✨✨</h2>\n <p class=\"description truncate truncate-2\">✨✨ជើងទ្រលេតថប/Laptop Stand✨✨\n \n ប្រមូសិនពិសេសរាល់ការទិញជើងទ្រលេតថបនេះនឹងមានការថែប\n [\"\\ud83c\"]\\</p> <ul class=\"list-unstyled summary\">\n <li>Phnom Penh</li>\n <li><time datetime=\"2023-03-28\">1 hour ago</time></li>\n <li>3 hits</li> </ul>\n <p class=\"item-prices m-0 text-red\"><span class=\"price\">$9.00</span> <i class=\"remove-price\">$12</i></p>\n </div>]"
          },
          "metadata": {}
        }
      ],
      "execution_count": 2,
      "metadata": {},
      "id": "3f310be5"
    },
    {
      "cell_type": "code",
      "source": [
        "Data[0]"
      ],
      "outputs": [
        {
          "output_type": "execute_result",
          "execution_count": 3,
          "data": {
            "text/plain": "<div class=\"item-detail\">\n<h2 class=\"item-title truncate truncate-2\">ប្រម៉ូសិនពិសេសសម្រាប់ EPSON Projector (EB-E01, EB-X06, EB-W51, EB-FH52...)</h2>\n<p class=\"description truncate truncate-2\">(កុំភ្លេចប្រាប់ថា លោកអ្នកបានឃើញប្រម៉ូសិនក្នុង Khmer24)\n================\nប្រម៉ូសិនពិសេសក្នុងឱកាសបុណ្យចូលឆ្នាំថ្</p> <ul class=\"list-unstyled summary\">\n<li>Phnom Penh</li>\n<li><time datetime=\"2023-03-28\">13 hours ago</time></li>\n<li>20 hits</li> </ul>\n<p class=\"item-prices m-0 text-red\"><span class=\"price\">$330.00</span> <i class=\"remove-price\">$379</i></p>\n<div class=\"list_thumb\"><span class=\"thumb\"><img alt=\"ប្រម៉ូសិនពិសេសសម្រាប់ EPSON Projector (EB-E01, EB-X06, EB-W51, EB-FH52...)\" class=\"img-cover lazy\" data-src=\"https://images.khmer24.co/23-03-16/s--epson-projector-eb-e01-eb-x06-eb-w51-eb-fh52--165410167894610220917971-c.jpg\" src=\"https://www.khmer24.com//images/image-placeholder-256.png\"/></span><span class=\"thumb\"><img alt=\"ប្រម៉ូសិនពិសេសសម្រាប់ EPSON Projector (EB-E01, EB-X06, EB-W51, EB-FH52...)\" class=\"img-cover lazy\" data-src=\"https://images.khmer24.co/23-03-21/s--epson-projector-eb-e01-eb-x06-eb-w51-eb-fh52--165410167936926979395040-d.jpg\" src=\"https://www.khmer24.com//images/image-placeholder-256.png\"/></span><span class=\"thumb\"><img alt=\"ប្រម៉ូសិនពិសេសសម្រាប់ EPSON Projector (EB-E01, EB-X06, EB-W51, EB-FH52...)\" class=\"img-cover lazy\" data-src=\"https://images.khmer24.co/23-03-21/s--epson-projector-eb-e01-eb-x06-eb-w51-eb-fh52--165410167936926970780003-e.jpg\" src=\"https://www.khmer24.com//images/image-placeholder-256.png\"/></span></div> </div>"
          },
          "metadata": {}
        }
      ],
      "execution_count": 3,
      "metadata": {
        "scrolled": true
      },
      "id": "c2e80667"
    },
    {
      "cell_type": "markdown",
      "source": [
        "#### Find items in index 0"
      ],
      "metadata": {},
      "id": "5e319a3a"
    },
    {
      "cell_type": "code",
      "source": [
        "Data[0].find('h2', {'class':'item-title'}).get_text()"
      ],
      "outputs": [
        {
          "output_type": "execute_result",
          "execution_count": 4,
          "data": {
            "text/plain": "'ប្រម៉ូសិនពិសេសសម្រាប់ EPSON Projector (EB-E01, EB-X06, EB-W51, EB-FH52...)'"
          },
          "metadata": {}
        }
      ],
      "execution_count": 4,
      "metadata": {},
      "id": "74612a6b"
    },
    {
      "cell_type": "code",
      "source": [
        "Data[0].find('p', {'class':'description'}).get_text()"
      ],
      "outputs": [
        {
          "output_type": "execute_result",
          "execution_count": 5,
          "data": {
            "text/plain": "'(កុំភ្លេចប្រាប់ថា លោកអ្នកបានឃើញប្រម៉ូសិនក្នុង Khmer24)\\n================\\nប្រម៉ូសិនពិសេសក្នុងឱកាសបុណ្យចូលឆ្នាំថ្'"
          },
          "metadata": {}
        }
      ],
      "execution_count": 5,
      "metadata": {},
      "id": "b952ee2a"
    },
    {
      "cell_type": "code",
      "source": [
        "Data[0].find('span', {'class':'price'}).get_text()"
      ],
      "outputs": [
        {
          "output_type": "execute_result",
          "execution_count": 6,
          "data": {
            "text/plain": "'$330.00'"
          },
          "metadata": {}
        }
      ],
      "execution_count": 6,
      "metadata": {},
      "id": "d0b454ef"
    },
    {
      "cell_type": "code",
      "source": [
        "Data[0].find('ul', {'class':'list-unstyled summary'}).get_text()\n",
        "Data[0].find('li').get_text()"
      ],
      "outputs": [
        {
          "output_type": "execute_result",
          "execution_count": 7,
          "data": {
            "text/plain": "'Phnom Penh'"
          },
          "metadata": {}
        }
      ],
      "execution_count": 7,
      "metadata": {},
      "id": "027900bd"
    },
    {
      "cell_type": "code",
      "source": [
        "Data[0].find('time').get_text()"
      ],
      "outputs": [
        {
          "output_type": "execute_result",
          "execution_count": 8,
          "data": {
            "text/plain": "'13 hours ago'"
          },
          "metadata": {}
        }
      ],
      "execution_count": 8,
      "metadata": {},
      "id": "9a43247b"
    },
    {
      "cell_type": "code",
      "source": [
        "Data = soup.findAll('article')"
      ],
      "outputs": [],
      "execution_count": 9,
      "metadata": {},
      "id": "0849307b"
    },
    {
      "cell_type": "code",
      "source": [
        "Data[0].find('div',{'class':'item-image'})"
      ],
      "outputs": [
        {
          "output_type": "execute_result",
          "execution_count": 10,
          "data": {
            "text/plain": "<div class=\"item-image\">\n<img alt=\"ប្រម៉ូសិនពិសេសសម្រាប់ EPSON Projector (EB-E01, EB-X06, EB-W51, EB-FH52...)\" class=\"img-cover lazy\" data-src=\"https://images.khmer24.co/23-03-16/s--epson-projector-eb-e01-eb-x06-eb-w51-eb-fh52--165410167894610265830459-b.jpg\" src=\"https://www.khmer24.com//images/image-placeholder-256.png\">\n<span class=\"discount-tag\">49$ OFF</span> <span class=\"shipping-tag\"><span class=\"icon icon-truck\"></span> Free Delivery</span> </img></div>"
          },
          "metadata": {}
        }
      ],
      "execution_count": 10,
      "metadata": {},
      "id": "00b31500"
    },
    {
      "cell_type": "code",
      "source": [
        "# Select for 1 page :\n",
        "\n",
        "URL = \"https://www.khmer24.com/en/c-computer-parts-and-accessories.html\"\n",
        "\n",
        "request = Request(URL, headers ={'User-Agent': 'Mozilla/5.0 (Windows NT 10.0; Win64; x64) AppleWebKit/537.36 (KHTML, like Gecko) Chrome/111.0.0.0 Safari/537.36'} )\n",
        "webpage = urlopen(request).read()\n",
        "soup = BeautifulSoup(webpage, 'html.parser')\n",
        "soup.prettify()\n",
        "Data1 = soup.findAll('div', class_ = 'item-detail')\n",
        "\n",
        "with open('Parts_Accessories2.csv','a',encoding = 'utf-7', newline = '') as f:\n",
        "        \n",
        "        thewriter = writer(f)\n",
        "        header = ['Title','Description','Price','Location','Time']\n",
        "        thewriter.writerow(header)\n",
        "        \n",
        "        for i in Data1:\n",
        "            \n",
        "            title = i.find('h2', class_=\"item-title\").text\n",
        "            description = i.find('p', class_='description').text\n",
        "            price = i.find('span', class_=\"price\").text\n",
        "            location = i.find('li').text\n",
        "            time = i.find('time').text\n",
        "            \n",
        "            info = [title, description, price, location, time]\n",
        "\n",
        "# Select to other page\n",
        "\n",
        "for i in range(1,155):\n",
        "    x = 50*i\n",
        "    URL = \"https://www.khmer24.com/en/c-computer-parts-and-accessories.html?per_page=\" + str(x)\n",
        "\n",
        "    request = Request(URL, headers ={'User-Agent': 'Mozilla/5.0 (Windows NT 10.0; Win64; x64) AppleWebKit/537.36 (KHTML, like Gecko) Chrome/111.0.0.0 Safari/537.36'} )\n",
        "    webpage = urlopen(request).read()\n",
        "    soup = BeautifulSoup(webpage, 'html.parser')\n",
        "    soup.prettify()\n",
        "    \n",
        "    with open('Parts_Accessories2.csv','a',encoding = 'utf-7', newline = '') as f:\n",
        "            thewriter = writer(f)\n",
        "            \n",
        "            for i in Data1:\n",
        "                title = i.find('h2', class_=\"item-title\").text\n",
        "                description = i.find('p', class_='description').text\n",
        "                price = i.find('span', class_=\"price\").text\n",
        "                location = i.find('li').text\n",
        "                time = i.find('time').text\n",
        "                \n",
        "                info = [title, description, price, location, time]\n",
        "                \n",
        "                thewriter.writerow(info)   "
      ],
      "outputs": [],
      "execution_count": 11,
      "metadata": {},
      "id": "20218dd0"
    },
    {
      "cell_type": "markdown",
      "source": [
        "###  Using this method"
      ],
      "metadata": {},
      "id": "02fc2d03"
    },
    {
      "cell_type": "code",
      "source": [
        "from bs4 import BeautifulSoup \n",
        "from urllib import request\n",
        "from urllib.request import Request, urlopen\n",
        "from csv import writer\n",
        "\n",
        "url = 'https://www.khmer24.com/en/c-computer-parts-and-accessories.html'\n",
        "request_site = Request(url, headers = {'User-Agent': 'Mozilla/5.0 (Windows NT 10.0; Win64; x64) AppleWebKit/537.36 (KHTML, like Gecko) Chrome/111.0.0.0 Safari/537.36'})\n",
        "webpage = urlopen(request_site).read()\n",
        "\n",
        "soup = BeautifulSoup(webpage, 'html.parser')\n",
        "\n",
        "links = soup.select(\"ul.list-unstyled a.border\")"
      ],
      "outputs": [],
      "execution_count": 12,
      "metadata": {},
      "id": "8e91096c"
    },
    {
      "cell_type": "code",
      "source": [
        "from bs4 import BeautifulSoup\n",
        "from urllib import request\n",
        "from urllib.request import Request, urlopen\n",
        "from csv import writer\n",
        "\n",
        "with open('Data2.csv','a',encoding='utf8', newline='') as f:\n",
        "    thewriter = writer(f) \n",
        "    header = [' ID ','Category','Location','Posted','Brand', 'Model','Price'] \n",
        "    thewriter.writerow(header)\n",
        "\n",
        "for page in [link['href'] for link in links]:\n",
        "    url1 =  page\n",
        "    try:\n",
        "        url = url1.encode('ascii', 'ignore').decode('ascii')\n",
        "        request_site = Request(url, headers ={'User-Agent': 'Mozilla/5.0 (Windows NT 10.0; Win64; x64) AppleWebKit/537.36 (KHTML, like Gecko) Chrome/111.0.0.0 Safari/537.36'})\n",
        "        webpage = urlopen(request_site).read()\n",
        "        soup = BeautifulSoup(webpage, 'html.parser')\n",
        "        soup.prettify()\n",
        "        \n",
        "        per_detail1 = []\n",
        "        per_detail2 = []\n",
        "        \n",
        "        with open('Data2.csv','a',encoding='utf8', newline='') as f:\n",
        "            thewriter = writer(f)\n",
        "            for i in soup.find_all('ul', class_=\"item-info\"):\n",
        "                for j in i.find_all('li'):\n",
        "                    details = j.find('span', class_=\"value\").text\n",
        "                    per_detail1.append(details)\n",
        "            \n",
        "                per_id = per_detail1[0]\n",
        "                per_cat = per_detail1[1]\n",
        "                per_loc = per_detail1[2]\n",
        "                per_time = per_detail1[3]\n",
        "\n",
        "            for x in soup.find_all('ul', class_=\"item-fields\"):\n",
        "                for div in x.find_all('div'):\n",
        "                    details = div.find('span', class_=\"value\").text\n",
        "                    per_detail2.append(details)   \n",
        "              \n",
        "                per_brand = per_detail2[0]\n",
        "                per_model = per_detail2[1]\n",
        "\n",
        "            for j in soup.find_all('p', class_='price'):\n",
        "                per_price = j.find('b').text \n",
        "                \n",
        "            info=[per_id, per_cat, per_loc,per_time, per_brand, per_model, per_price]\n",
        "            thewriter.writerow(info)\n",
        "    except:\n",
        "        pass"
      ],
      "outputs": [
        {
          "output_type": "stream",
          "name": "stderr",
          "text": "Some characters could not be decoded, and were replaced with REPLACEMENT CHARACTER.\nSome characters could not be decoded, and were replaced with REPLACEMENT CHARACTER.\nSome characters could not be decoded, and were replaced with REPLACEMENT CHARACTER.\nSome characters could not be decoded, and were replaced with REPLACEMENT CHARACTER.\nSome characters could not be decoded, and were replaced with REPLACEMENT CHARACTER.\nSome characters could not be decoded, and were replaced with REPLACEMENT CHARACTER.\nSome characters could not be decoded, and were replaced with REPLACEMENT CHARACTER.\nSome characters could not be decoded, and were replaced with REPLACEMENT CHARACTER.\nSome characters could not be decoded, and were replaced with REPLACEMENT CHARACTER.\nSome characters could not be decoded, and were replaced with REPLACEMENT CHARACTER.\nSome characters could not be decoded, and were replaced with REPLACEMENT CHARACTER.\nSome characters could not be decoded, and were replaced with REPLACEMENT CHARACTER.\nSome characters could not be decoded, and were replaced with REPLACEMENT CHARACTER.\nSome characters could not be decoded, and were replaced with REPLACEMENT CHARACTER.\nSome characters could not be decoded, and were replaced with REPLACEMENT CHARACTER.\n"
        }
      ],
      "execution_count": 13,
      "metadata": {},
      "id": "0e97f651"
    },
    {
      "cell_type": "code",
      "source": [
        "from bs4 import BeautifulSoup \n",
        "from urllib import request\n",
        "from urllib.request import Request, urlopen\n",
        "from csv import writer\n",
        "\n",
        "for i in range(1,20):\n",
        "    x = 50*i \n",
        "    url = \"https://www.khmer24.com/en/c-computer-parts-and-accessories.html?per_page=\" + str(x)\n",
        "    request_site = Request(url, headers ={'User-Agent': 'Mozilla/5.0 (Windows NT 10.0; Win64; x64) AppleWebKit/537.36 (KHTML, like Gecko) Chrome/111.0.0.0 Safari/537.36'})\n",
        "    webpage = urlopen(request_site).read()\n",
        "    soup = BeautifulSoup(webpage, 'html.parser')\n",
        "    links = soup.select(\"ul.list-unstyled a.border\")\n",
        "    \n",
        "    \n",
        "    #get data\n",
        "    for page in [link['href'] for link in links]:\n",
        "        url1 = page\n",
        "        try:\n",
        "            url = url1.encode('ascii', 'ignore').decode('ascii')\n",
        "            request_site = Request(url, headers ={'User-Agent': 'Mozilla/5.0 (Windows NT 10.0; Win64; x64) AppleWebKit/537.36 (KHTML, like Gecko) Chrome/111.0.0.0 Safari/537.36'})\n",
        "            webpage = urlopen(request_site).read()\n",
        "            soup = BeautifulSoup(webpage, 'html.parser')\n",
        "            soup.prettify()\n",
        "            per_detail1 = []\n",
        "            per_detail2 = []\n",
        "            \n",
        "            with open('Data2.csv','a',encoding='utf8', newline='') as f:\n",
        "                thewriter = writer(f)\n",
        "                for i in soup.find_all('ul', class_=\"item-info\"):\n",
        "                    for j in i.find_all('li'):\n",
        "                        details = j.find('span', class_=\"value\").text\n",
        "                        per_detail1.append(details)\n",
        "                \n",
        "                    per_id = per_detail1[0]\n",
        "                    per_cat = per_detail1[1]\n",
        "                    per_loc = per_detail1[2]\n",
        "                    per_time = per_detail1[3]\n",
        "\n",
        "                for x in soup.find_all('ul', class_=\"item-fields\"):\n",
        "                    for div in x.find_all('div'):\n",
        "                        details = div.find('span', class_=\"value\").text\n",
        "                        per_detail2.append(details)   \n",
        "                       \n",
        "                    per_brand = per_detail2[0]\n",
        "                    per_model = per_detail2[1]\n",
        "\n",
        "                for j in soup.find_all('p', class_='price'):\n",
        "                    per_price = j.find('b').text \n",
        "                info = [per_id, per_cat, per_loc,per_time, per_brand, per_model, per_price]\n",
        "                thewriter.writerow(info)\n",
        "        except:\n",
        "            pass"
      ],
      "outputs": [
        {
          "output_type": "stream",
          "name": "stderr",
          "text": "Some characters could not be decoded, and were replaced with REPLACEMENT CHARACTER.\nSome characters could not be decoded, and were replaced with REPLACEMENT CHARACTER.\nSome characters could not be decoded, and were replaced with REPLACEMENT CHARACTER.\nSome characters could not be decoded, and were replaced with REPLACEMENT CHARACTER.\nSome characters could not be decoded, and were replaced with REPLACEMENT CHARACTER.\nSome characters could not be decoded, and were replaced with REPLACEMENT CHARACTER.\nSome characters could not be decoded, and were replaced with REPLACEMENT CHARACTER.\nSome characters could not be decoded, and were replaced with REPLACEMENT CHARACTER.\nSome characters could not be decoded, and were replaced with REPLACEMENT CHARACTER.\nSome characters could not be decoded, and were replaced with REPLACEMENT CHARACTER.\nSome characters could not be decoded, and were replaced with REPLACEMENT CHARACTER.\nSome characters could not be decoded, and were replaced with REPLACEMENT CHARACTER.\nSome characters could not be decoded, and were replaced with REPLACEMENT CHARACTER.\nSome characters could not be decoded, and were replaced with REPLACEMENT CHARACTER.\nSome characters could not be decoded, and were replaced with REPLACEMENT CHARACTER.\nSome characters could not be decoded, and were replaced with REPLACEMENT CHARACTER.\nSome characters could not be decoded, and were replaced with REPLACEMENT CHARACTER.\nSome characters could not be decoded, and were replaced with REPLACEMENT CHARACTER.\nSome characters could not be decoded, and were replaced with REPLACEMENT CHARACTER.\nSome characters could not be decoded, and were replaced with REPLACEMENT CHARACTER.\nSome characters could not be decoded, and were replaced with REPLACEMENT CHARACTER.\nSome characters could not be decoded, and were replaced with REPLACEMENT CHARACTER.\nSome characters could not be decoded, and were replaced with REPLACEMENT CHARACTER.\nSome characters could not be decoded, and were replaced with REPLACEMENT CHARACTER.\nSome characters could not be decoded, and were replaced with REPLACEMENT CHARACTER.\nSome characters could not be decoded, and were replaced with REPLACEMENT CHARACTER.\nSome characters could not be decoded, and were replaced with REPLACEMENT CHARACTER.\nSome characters could not be decoded, and were replaced with REPLACEMENT CHARACTER.\nSome characters could not be decoded, and were replaced with REPLACEMENT CHARACTER.\nSome characters could not be decoded, and were replaced with REPLACEMENT CHARACTER.\nSome characters could not be decoded, and were replaced with REPLACEMENT CHARACTER.\nSome characters could not be decoded, and were replaced with REPLACEMENT CHARACTER.\nSome characters could not be decoded, and were replaced with REPLACEMENT CHARACTER.\nSome characters could not be decoded, and were replaced with REPLACEMENT CHARACTER.\nSome characters could not be decoded, and were replaced with REPLACEMENT CHARACTER.\nSome characters could not be decoded, and were replaced with REPLACEMENT CHARACTER.\nSome characters could not be decoded, and were replaced with REPLACEMENT CHARACTER.\nSome characters could not be decoded, and were replaced with REPLACEMENT CHARACTER.\nSome characters could not be decoded, and were replaced with REPLACEMENT CHARACTER.\nSome characters could not be decoded, and were replaced with REPLACEMENT CHARACTER.\nSome characters could not be decoded, and were replaced with REPLACEMENT CHARACTER.\nSome characters could not be decoded, and were replaced with REPLACEMENT CHARACTER.\nSome characters could not be decoded, and were replaced with REPLACEMENT CHARACTER.\nSome characters could not be decoded, and were replaced with REPLACEMENT CHARACTER.\nSome characters could not be decoded, and were replaced with REPLACEMENT CHARACTER.\nSome characters could not be decoded, and were replaced with REPLACEMENT CHARACTER.\nSome characters could not be decoded, and were replaced with REPLACEMENT CHARACTER.\nSome characters could not be decoded, and were replaced with REPLACEMENT CHARACTER.\nSome characters could not be decoded, and were replaced with REPLACEMENT CHARACTER.\nSome characters could not be decoded, and were replaced with REPLACEMENT CHARACTER.\nSome characters could not be decoded, and were replaced with REPLACEMENT CHARACTER.\nSome characters could not be decoded, and were replaced with REPLACEMENT CHARACTER.\nSome characters could not be decoded, and were replaced with REPLACEMENT CHARACTER.\nSome characters could not be decoded, and were replaced with REPLACEMENT CHARACTER.\nSome characters could not be decoded, and were replaced with REPLACEMENT CHARACTER.\nSome characters could not be decoded, and were replaced with REPLACEMENT CHARACTER.\nSome characters could not be decoded, and were replaced with REPLACEMENT CHARACTER.\nSome characters could not be decoded, and were replaced with REPLACEMENT CHARACTER.\nSome characters could not be decoded, and were replaced with REPLACEMENT CHARACTER.\nSome characters could not be decoded, and were replaced with REPLACEMENT CHARACTER.\nSome characters could not be decoded, and were replaced with REPLACEMENT CHARACTER.\nSome characters could not be decoded, and were replaced with REPLACEMENT CHARACTER.\nSome characters could not be decoded, and were replaced with REPLACEMENT CHARACTER.\nSome characters could not be decoded, and were replaced with REPLACEMENT CHARACTER.\nSome characters could not be decoded, and were replaced with REPLACEMENT CHARACTER.\nSome characters could not be decoded, and were replaced with REPLACEMENT CHARACTER.\nSome characters could not be decoded, and were replaced with REPLACEMENT CHARACTER.\nSome characters could not be decoded, and were replaced with REPLACEMENT CHARACTER.\nSome characters could not be decoded, and were replaced with REPLACEMENT CHARACTER.\nSome characters could not be decoded, and were replaced with REPLACEMENT CHARACTER.\nSome characters could not be decoded, and were replaced with REPLACEMENT CHARACTER.\nSome characters could not be decoded, and were replaced with REPLACEMENT CHARACTER.\nSome characters could not be decoded, and were replaced with REPLACEMENT CHARACTER.\nSome characters could not be decoded, and were replaced with REPLACEMENT CHARACTER.\nSome characters could not be decoded, and were replaced with REPLACEMENT CHARACTER.\nSome characters could not be decoded, and were replaced with REPLACEMENT CHARACTER.\nSome characters could not be decoded, and were replaced with REPLACEMENT CHARACTER.\nSome characters could not be decoded, and were replaced with REPLACEMENT CHARACTER.\nSome characters could not be decoded, and were replaced with REPLACEMENT CHARACTER.\nSome characters could not be decoded, and were replaced with REPLACEMENT CHARACTER.\nSome characters could not be decoded, and were replaced with REPLACEMENT CHARACTER.\nSome characters could not be decoded, and were replaced with REPLACEMENT CHARACTER.\nSome characters could not be decoded, and were replaced with REPLACEMENT CHARACTER.\nSome characters could not be decoded, and were replaced with REPLACEMENT CHARACTER.\nSome characters could not be decoded, and were replaced with REPLACEMENT CHARACTER.\nSome characters could not be decoded, and were replaced with REPLACEMENT CHARACTER.\nSome characters could not be decoded, and were replaced with REPLACEMENT CHARACTER.\nSome characters could not be decoded, and were replaced with REPLACEMENT CHARACTER.\nSome characters could not be decoded, and were replaced with REPLACEMENT CHARACTER.\nSome characters could not be decoded, and were replaced with REPLACEMENT CHARACTER.\nSome characters could not be decoded, and were replaced with REPLACEMENT CHARACTER.\nSome characters could not be decoded, and were replaced with REPLACEMENT CHARACTER.\nSome characters could not be decoded, and were replaced with REPLACEMENT CHARACTER.\nSome characters could not be decoded, and were replaced with REPLACEMENT CHARACTER.\nSome characters could not be decoded, and were replaced with REPLACEMENT CHARACTER.\nSome characters could not be decoded, and were replaced with REPLACEMENT CHARACTER.\nSome characters could not be decoded, and were replaced with REPLACEMENT CHARACTER.\nSome characters could not be decoded, and were replaced with REPLACEMENT CHARACTER.\n"
        },
        {
          "output_type": "stream",
          "name": "stderr",
          "text": "Some characters could not be decoded, and were replaced with REPLACEMENT CHARACTER.\nSome characters could not be decoded, and were replaced with REPLACEMENT CHARACTER.\nSome characters could not be decoded, and were replaced with REPLACEMENT CHARACTER.\nSome characters could not be decoded, and were replaced with REPLACEMENT CHARACTER.\nSome characters could not be decoded, and were replaced with REPLACEMENT CHARACTER.\nSome characters could not be decoded, and were replaced with REPLACEMENT CHARACTER.\nSome characters could not be decoded, and were replaced with REPLACEMENT CHARACTER.\nSome characters could not be decoded, and were replaced with REPLACEMENT CHARACTER.\nSome characters could not be decoded, and were replaced with REPLACEMENT CHARACTER.\nSome characters could not be decoded, and were replaced with REPLACEMENT CHARACTER.\nSome characters could not be decoded, and were replaced with REPLACEMENT CHARACTER.\nSome characters could not be decoded, and were replaced with REPLACEMENT CHARACTER.\nSome characters could not be decoded, and were replaced with REPLACEMENT CHARACTER.\nSome characters could not be decoded, and were replaced with REPLACEMENT CHARACTER.\nSome characters could not be decoded, and were replaced with REPLACEMENT CHARACTER.\nSome characters could not be decoded, and were replaced with REPLACEMENT CHARACTER.\nSome characters could not be decoded, and were replaced with REPLACEMENT CHARACTER.\nSome characters could not be decoded, and were replaced with REPLACEMENT CHARACTER.\nSome characters could not be decoded, and were replaced with REPLACEMENT CHARACTER.\nSome characters could not be decoded, and were replaced with REPLACEMENT CHARACTER.\nSome characters could not be decoded, and were replaced with REPLACEMENT CHARACTER.\nSome characters could not be decoded, and were replaced with REPLACEMENT CHARACTER.\nSome characters could not be decoded, and were replaced with REPLACEMENT CHARACTER.\nSome characters could not be decoded, and were replaced with REPLACEMENT CHARACTER.\nSome characters could not be decoded, and were replaced with REPLACEMENT CHARACTER.\nSome characters could not be decoded, and were replaced with REPLACEMENT CHARACTER.\nSome characters could not be decoded, and were replaced with REPLACEMENT CHARACTER.\nSome characters could not be decoded, and were replaced with REPLACEMENT CHARACTER.\nSome characters could not be decoded, and were replaced with REPLACEMENT CHARACTER.\nSome characters could not be decoded, and were replaced with REPLACEMENT CHARACTER.\nSome characters could not be decoded, and were replaced with REPLACEMENT CHARACTER.\nSome characters could not be decoded, and were replaced with REPLACEMENT CHARACTER.\nSome characters could not be decoded, and were replaced with REPLACEMENT CHARACTER.\nSome characters could not be decoded, and were replaced with REPLACEMENT CHARACTER.\nSome characters could not be decoded, and were replaced with REPLACEMENT CHARACTER.\nSome characters could not be decoded, and were replaced with REPLACEMENT CHARACTER.\nSome characters could not be decoded, and were replaced with REPLACEMENT CHARACTER.\nSome characters could not be decoded, and were replaced with REPLACEMENT CHARACTER.\nSome characters could not be decoded, and were replaced with REPLACEMENT CHARACTER.\nSome characters could not be decoded, and were replaced with REPLACEMENT CHARACTER.\nSome characters could not be decoded, and were replaced with REPLACEMENT CHARACTER.\nSome characters could not be decoded, and were replaced with REPLACEMENT CHARACTER.\nSome characters could not be decoded, and were replaced with REPLACEMENT CHARACTER.\nSome characters could not be decoded, and were replaced with REPLACEMENT CHARACTER.\nSome characters could not be decoded, and were replaced with REPLACEMENT CHARACTER.\nSome characters could not be decoded, and were replaced with REPLACEMENT CHARACTER.\nSome characters could not be decoded, and were replaced with REPLACEMENT CHARACTER.\nSome characters could not be decoded, and were replaced with REPLACEMENT CHARACTER.\nSome characters could not be decoded, and were replaced with REPLACEMENT CHARACTER.\nSome characters could not be decoded, and were replaced with REPLACEMENT CHARACTER.\nSome characters could not be decoded, and were replaced with REPLACEMENT CHARACTER.\nSome characters could not be decoded, and were replaced with REPLACEMENT CHARACTER.\nSome characters could not be decoded, and were replaced with REPLACEMENT CHARACTER.\nSome characters could not be decoded, and were replaced with REPLACEMENT CHARACTER.\nSome characters could not be decoded, and were replaced with REPLACEMENT CHARACTER.\nSome characters could not be decoded, and were replaced with REPLACEMENT CHARACTER.\nSome characters could not be decoded, and were replaced with REPLACEMENT CHARACTER.\n"
        }
      ],
      "execution_count": 15,
      "metadata": {},
      "id": "e20c65e1"
    },
    {
      "cell_type": "code",
      "source": [
        "import pandas as pd\n",
        "df = pd.read_csv('Data2.csv')\n",
        "df"
      ],
      "outputs": [
        {
          "output_type": "execute_result",
          "execution_count": 21,
          "data": {
            "text/html": "<div>\n<style scoped>\n    .dataframe tbody tr th:only-of-type {\n        vertical-align: middle;\n    }\n\n    .dataframe tbody tr th {\n        vertical-align: top;\n    }\n\n    .dataframe thead th {\n        text-align: right;\n    }\n</style>\n<table border=\"1\" class=\"dataframe\">\n  <thead>\n    <tr style=\"text-align: right;\">\n      <th></th>\n      <th>ID</th>\n      <th>Category</th>\n      <th>Location</th>\n      <th>Posted</th>\n      <th>Brand</th>\n      <th>Model</th>\n      <th>Price</th>\n    </tr>\n  </thead>\n  <tbody>\n    <tr>\n      <th>0</th>\n      <td>9163092</td>\n      <td>Parts &amp; Accessories</td>\n      <td>Phnom Penh</td>\n      <td>28-Mar-23</td>\n      <td>Projectors &amp; Accessory</td>\n      <td>New</td>\n      <td>$330.00</td>\n    </tr>\n    <tr>\n      <th>1</th>\n      <td>5247711</td>\n      <td>Parts &amp; Accessories</td>\n      <td>Siem Reap</td>\n      <td>28-Mar-23</td>\n      <td>Keyboards, Mice(Mouse) &amp; Input Devices</td>\n      <td>New</td>\n      <td>$25</td>\n    </tr>\n    <tr>\n      <th>2</th>\n      <td>9191338</td>\n      <td>Parts &amp; Accessories</td>\n      <td>Phnom Penh</td>\n      <td>28-Mar-23</td>\n      <td>PC Components</td>\n      <td>Used</td>\n      <td>$105</td>\n    </tr>\n    <tr>\n      <th>3</th>\n      <td>9215286</td>\n      <td>Parts &amp; Accessories</td>\n      <td>Phnom Penh</td>\n      <td>28-Mar-23</td>\n      <td>Keyboards, Mice(Mouse) &amp; Input Devices</td>\n      <td>New</td>\n      <td>$8</td>\n    </tr>\n    <tr>\n      <th>4</th>\n      <td>9199644</td>\n      <td>Parts &amp; Accessories</td>\n      <td>Phnom Penh</td>\n      <td>28-Mar-23</td>\n      <td>PC Components</td>\n      <td>Used</td>\n      <td>$65</td>\n    </tr>\n    <tr>\n      <th>...</th>\n      <td>...</td>\n      <td>...</td>\n      <td>...</td>\n      <td>...</td>\n      <td>...</td>\n      <td>...</td>\n      <td>...</td>\n    </tr>\n    <tr>\n      <th>1445</th>\n      <td>9013966</td>\n      <td>Parts &amp; Accessories</td>\n      <td>Phnom Penh</td>\n      <td>28-Mar-23</td>\n      <td>PC Components</td>\n      <td>Used</td>\n      <td>$120</td>\n    </tr>\n    <tr>\n      <th>1446</th>\n      <td>8852110</td>\n      <td>Parts &amp; Accessories</td>\n      <td>Phnom Penh</td>\n      <td>28-Mar-23</td>\n      <td>PC Components</td>\n      <td>New</td>\n      <td>$10</td>\n    </tr>\n    <tr>\n      <th>1447</th>\n      <td>9099188</td>\n      <td>Parts &amp; Accessories</td>\n      <td>Phnom Penh</td>\n      <td>28-Mar-23</td>\n      <td>Other - ផ្សេងៗ</td>\n      <td>Used</td>\n      <td>$45</td>\n    </tr>\n    <tr>\n      <th>1448</th>\n      <td>8772965</td>\n      <td>Parts &amp; Accessories</td>\n      <td>Phnom Penh</td>\n      <td>28-Mar-23</td>\n      <td>PC Components</td>\n      <td>New</td>\n      <td>$15</td>\n    </tr>\n    <tr>\n      <th>1449</th>\n      <td>8959351</td>\n      <td>Parts &amp; Accessories</td>\n      <td>Phnom Penh</td>\n      <td>28-Mar-23</td>\n      <td>Storage &amp; Media</td>\n      <td>New</td>\n      <td>$13</td>\n    </tr>\n  </tbody>\n</table>\n<p>1450 rows × 7 columns</p>\n</div>",
            "text/plain": "          ID              Category    Location     Posted  \\\n0     9163092  Parts & Accessories  Phnom Penh  28-Mar-23   \n1     5247711  Parts & Accessories   Siem Reap  28-Mar-23   \n2     9191338  Parts & Accessories  Phnom Penh  28-Mar-23   \n3     9215286  Parts & Accessories  Phnom Penh  28-Mar-23   \n4     9199644  Parts & Accessories  Phnom Penh  28-Mar-23   \n...       ...                  ...         ...        ...   \n1445  9013966  Parts & Accessories  Phnom Penh  28-Mar-23   \n1446  8852110  Parts & Accessories  Phnom Penh  28-Mar-23   \n1447  9099188  Parts & Accessories  Phnom Penh  28-Mar-23   \n1448  8772965  Parts & Accessories  Phnom Penh  28-Mar-23   \n1449  8959351  Parts & Accessories  Phnom Penh  28-Mar-23   \n\n                                       Brand Model    Price  \n0                     Projectors & Accessory   New  $330.00  \n1     Keyboards, Mice(Mouse) & Input Devices   New      $25  \n2                              PC Components  Used     $105  \n3     Keyboards, Mice(Mouse) & Input Devices   New       $8  \n4                              PC Components  Used      $65  \n...                                      ...   ...      ...  \n1445                           PC Components  Used     $120  \n1446                           PC Components   New      $10  \n1447                          Other - ផ្សេងៗ  Used      $45  \n1448                           PC Components   New      $15  \n1449                         Storage & Media   New      $13  \n\n[1450 rows x 7 columns]"
          },
          "metadata": {}
        }
      ],
      "execution_count": 21,
      "metadata": {},
      "id": "1c8fcd02"
    },
    {
      "cell_type": "code",
      "source": [
        "df.info()"
      ],
      "outputs": [
        {
          "output_type": "stream",
          "name": "stdout",
          "text": "<class 'pandas.core.frame.DataFrame'>\nRangeIndex: 1450 entries, 0 to 1449\nData columns (total 7 columns):\n #   Column    Non-Null Count  Dtype \n---  ------    --------------  ----- \n 0    ID       1450 non-null   int64 \n 1   Category  1450 non-null   object\n 2   Location  1450 non-null   object\n 3   Posted    1450 non-null   object\n 4   Brand     1450 non-null   object\n 5   Model     1450 non-null   object\n 6   Price     1450 non-null   object\ndtypes: int64(1), object(6)\nmemory usage: 79.4+ KB\n"
        }
      ],
      "execution_count": 22,
      "metadata": {},
      "id": "791ebd0d"
    },
    {
      "cell_type": "code",
      "source": [],
      "outputs": [],
      "execution_count": null,
      "metadata": {},
      "id": "ee884e6c"
    }
  ],
  "metadata": {
    "kernelspec": {
      "name": "python",
      "language": "python",
      "display_name": "Pyolite (preview)"
    },
    "language_info": {
      "codemirror_mode": {
        "name": "python",
        "version": 3
      },
      "file_extension": ".py",
      "mimetype": "text/x-python",
      "name": "python",
      "nbconvert_exporter": "python",
      "pygments_lexer": "ipython3",
      "version": "3.8"
    },
    "kernel_info": {
      "name": "python"
    },
    "nteract": {
      "version": "nteract-front-end@1.0.0"
    }
  },
  "nbformat": 4,
  "nbformat_minor": 5
}